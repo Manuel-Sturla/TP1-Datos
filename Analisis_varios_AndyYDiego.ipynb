{
 "cells": [
  {
   "cell_type": "code",
   "execution_count": null,
   "metadata": {},
   "outputs": [],
   "source": [
    "# Importamos librerías de análisis de datos\n",
    "%matplotlib inline\n",
    "import numpy as np\n",
    "import pandas as pd\n",
    "import seaborn as sns\n",
    "import matplotlib.pyplot as plt\n",
    "import sys\n",
    "#sys._enablelegacywindowsfsencoding()\n",
    "pd.set_option('display.max_columns', 100)\n",
    "pd.set_option('display.float_format', '{:.2f}'.format)\n",
    "pd.set_option('mode.chained_assignment', None) # Deshabilita SettingWithCopyWarning. Ojo."
   ]
  },
  {
   "cell_type": "code",
   "execution_count": null,
   "metadata": {},
   "outputs": [],
   "source": [
    "#path = \"C:/Users/Andres/Google Drive/Facultad/4° CUATRIMESTRE/Organización de Datos/Trabajo Práctico/train.csv\"\n",
    "path = \"./data/train.csv\"\n",
    "df = pd.read_csv(path, index_col='id', parse_dates=['fecha'])"
   ]
  },
  {
   "cell_type": "code",
   "execution_count": null,
   "metadata": {},
   "outputs": [],
   "source": [
    "print(f\"Columnas: {df.columns}\")\n",
    "df['ciudad'].value_counts()"
   ]
  },
  {
   "cell_type": "code",
   "execution_count": null,
   "metadata": {},
   "outputs": [],
   "source": [
    "df['ed.cult.cercana'] = df['escuelascercanas'] + df['centroscomercialescercanos']\n",
    "df['precio(U$S)'] = df['precio']/20\n",
    "df['extras(P/S/G)'] = df['gimnasio'] + df['piscina']+ df['usosmultiples']\n",
    "df.drop(['escuelascercanas','centroscomercialescercanos','precio','gimnasio','piscina','usosmultiples'],axis=1,inplace =True)"
   ]
  },
  {
   "cell_type": "code",
   "execution_count": null,
   "metadata": {},
   "outputs": [],
   "source": [
    "\"FILTRO LOS NAN\"\n",
    "df2 = df.dropna()\n",
    "df2.info()"
   ]
  },
  {
   "cell_type": "code",
   "execution_count": null,
   "metadata": {},
   "outputs": [],
   "source": [
    "\"UNIFICO ALGUNOS VALORES\"\n",
    "df.loc[df['tipodepropiedad'] == 'Casa en condominio', 'tipodepropiedad'] = 'Casa'\n",
    "df.loc[df['tipodepropiedad'] == 'Casa uso de suelo', 'tipodepropiedad'] = 'Casa'\n",
    "df.loc[df['tipodepropiedad'] == 'Departamento Compartido', 'tipodepropiedad'] = 'Edificio'\n",
    "df.loc[df['tipodepropiedad'] == 'Apartamento', 'tipodepropiedad'] = 'Edificio'\n",
    "df.loc[df['tipodepropiedad'] == 'Local Comercial', 'tipodepropiedad'] = 'Oficina comercial'\n",
    "df.loc[df['tipodepropiedad'] == 'Bodega comercial', 'tipodepropiedad'] = 'Oficina comercial'\n",
    "df.loc[df['tipodepropiedad'] == 'Terreno comercial', 'tipodepropiedad'] = 'Oficina comercial'\n",
    "df.loc[df['tipodepropiedad'] == 'Oficina Comercial', 'tipodepropiedad'] = 'Oficina comercial'\n",
    "df.loc[df['tipodepropiedad'] == 'Local en centro comercial', 'tipodepropiedad'] = 'Oficina comercial'\n",
    "df.loc[df['tipodepropiedad'] == 'Nave industrial', 'tipodepropiedad'] = 'Terreno industrial'\n",
    "df['tipodepropiedad'].value_counts()"
   ]
  },
  {
   "cell_type": "code",
   "execution_count": null,
   "metadata": {},
   "outputs": [],
   "source": [
    "\"AGREGO COLUMNA DE CONTADOR DE PROPIEDADES\"\n",
    "df['cantdepropiedades'] = df.groupby('ciudad')['ciudad'].transform('count')\n",
    "\"FILTRO PARA QUE QUEDEN LAS PRINCIPALES 5\"\n",
    "df_filtrado = df[df['cantdepropiedades']>=7162]\n",
    "df_filtrado['aux'] = 1\n",
    "df_filtrado.head()"
   ]
  },
  {
   "cell_type": "code",
   "execution_count": null,
   "metadata": {},
   "outputs": [],
   "source": [
    "\"CANTIDAD POR TIPO DE PROPIEDAD EN VENTA DE LAS PRINCIPALES 5 CIUDADES\"\n",
    "grupo_ciudad = df_filtrado.groupby('ciudad')\n",
    "grupo_ciudad_propiedad = df_filtrado.groupby(['ciudad','tipodepropiedad'])[['aux']]\n",
    "df_grupo_ciudad_propiedad = grupo_ciudad_propiedad.aggregate(np.sum)"
   ]
  },
  {
   "cell_type": "code",
   "execution_count": null,
   "metadata": {},
   "outputs": [],
   "source": [
    "df_grupo_ciudad_propiedad = df_grupo_ciudad_propiedad.reset_index()"
   ]
  },
  {
   "cell_type": "code",
   "execution_count": null,
   "metadata": {},
   "outputs": [],
   "source": [
    "sns.set(rc={'figure.figsize':(15.7,10.27)})\n",
    "g = sns.barplot(x=\"ciudad\",y=\"aux\",hue=\"tipodepropiedad\", data=df_grupo_ciudad_propiedad, palette=\"pastel\")\n",
    "g.legend(loc='upper right')\n",
    "g.set_title(\"Cantidad de Viviendas Publicadas por Ciudad (TOP 5 Ciudades)\", fontsize=18)\n",
    "g.set_xlabel(\"Ciudad\", fontsize=18)\n",
    "g.set_ylabel(\"Cantidad de Viviendas Publicadas\", fontsize=18)"
   ]
  },
  {
   "cell_type": "code",
   "execution_count": null,
   "metadata": {},
   "outputs": [],
   "source": [
    "df_filtrado.head()\n",
    "grupo_ciudad_precio = df_filtrado.groupby(['ciudad','tipodepropiedad'])[['precio(U$S)']]\n",
    "df_grupo_ciudad = grupo_ciudad_precio.aggregate(np.mean)\n",
    "grupo_ciudad_precio.count()"
   ]
  },
  {
   "cell_type": "code",
   "execution_count": null,
   "metadata": {},
   "outputs": [],
   "source": [
    "df_grupo_ciudad = df_grupo_ciudad.reset_index()\n",
    "df_grupo_ciudad.head(15)"
   ]
  },
  {
   "cell_type": "code",
   "execution_count": null,
   "metadata": {},
   "outputs": [],
   "source": [
    "sns.set(rc={'figure.figsize':(15.7,10.27)})\n",
    "g = sns.barplot(x=\"ciudad\",y=\"precio(U$S)\", hue=\"tipodepropiedad\", data=df_grupo_ciudad, palette=\"pastel\")\n",
    "g.legend(loc='upper center')\n",
    "g.set_title(\"Precio Promedio Por Tipo De Propiedad por Ciudad (TOP 5 Ciudades)\", fontsize=18)\n",
    "g.set_xlabel(\"Ciudad\", fontsize=18)\n",
    "g.set_ylabel(\"Precio Promedio\", fontsize=18)\n"
   ]
  },
  {
   "cell_type": "code",
   "execution_count": null,
   "metadata": {},
   "outputs": [],
   "source": [
    "plt.figure(figsize=(15, 15))\n",
    "sns.heatmap(df.corr(), square=True, annot=True, fmt='.2f');"
   ]
  },
  {
   "cell_type": "code",
   "execution_count": null,
   "metadata": {},
   "outputs": [],
   "source": [
    "\"EVOLUCION DEL PRECIO DE CADA TIPO DE PROPIEDAD DE LA CIUDAD MAS IMPORTANTE (QUERETARO)\"\n",
    "import calendar\n",
    "\n",
    "df_evolucion_precio = df\n",
    "df_evolucion_precio = df_evolucion_precio[df_evolucion_precio['ciudad'] == 'Querétaro']\n",
    "df_evolucion_precio['tipodepropiedad'].value_counts()\n"
   ]
  },
  {
   "cell_type": "code",
   "execution_count": null,
   "metadata": {},
   "outputs": [],
   "source": [
    "df_evolucion_precio['cantidadPorTipo'] = df_evolucion_precio.groupby('tipodepropiedad')['tipodepropiedad'].transform('count')\n",
    "df_evolucion_filtrado = df_evolucion_precio[df_evolucion_precio['cantidadPorTipo']>=459]\n",
    "df_evolucion_filtrado.head(15)\n",
    "df_evolucion_filtrado['anio'] = df_evolucion_filtrado['fecha'].dt.year\n",
    "df_evolucion_filtrado['tipodepropiedad'].value_counts()\n",
    "df_evolucion_filtrado.sample()"
   ]
  },
  {
   "cell_type": "code",
   "execution_count": null,
   "metadata": {},
   "outputs": [],
   "source": [
    "sns.set(style='darkgrid')\n",
    "g = sns.lineplot(x=\"anio\", y=\"precio(U$S)\",\n",
    "             hue=\"tipodepropiedad\",\n",
    "             data=df_evolucion_filtrado)\n",
    "g.set_xticks([2012,2013,2014,2015,2016])"
   ]
  },
  {
   "cell_type": "code",
   "execution_count": null,
   "metadata": {},
   "outputs": [],
   "source": [
    "#evolucion_group = df_evolucion_precio.groupby(['anio','tipodepropiedad','mes'])['precio(U$S)']\n",
    "#evolucion_ser = evolucion_group.aggregate(np.mean)\n",
    "#evolucion_df2 = evolucion_ser.unstack()\n",
    "#evolucion_df2 = evolucion_df2.reset_index()\n",
    "#evolucion_df2.head()"
   ]
  },
  {
   "cell_type": "code",
   "execution_count": null,
   "metadata": {},
   "outputs": [],
   "source": [
    "a = pd.read_csv(\"./data/train.csv\")\n",
    "DF = a[a['provincia'] == 'Distrito Federal'].copy()\n",
    "#DF.sample(5)"
   ]
  },
  {
   "cell_type": "code",
   "execution_count": null,
   "metadata": {},
   "outputs": [],
   "source": [
    "DF.tipodepropiedad.value_counts().plot(kind = \"bar\")"
   ]
  },
  {
   "cell_type": "code",
   "execution_count": null,
   "metadata": {},
   "outputs": [],
   "source": [
    "#DF.tipodepropiedad.value_counts()"
   ]
  },
  {
   "cell_type": "code",
   "execution_count": null,
   "metadata": {},
   "outputs": [],
   "source": [
    "#DF.fecha.sample(3)"
   ]
  },
  {
   "cell_type": "code",
   "execution_count": null,
   "metadata": {},
   "outputs": [],
   "source": [
    "DF_fecha = DF.copy()\n",
    "mask = (DF_fecha['fecha'] < '2016-12')\n",
    "DF_fecha = DF_fecha.loc[mask]\n",
    "DF_fecha.sample(10)\n",
    "DF_fecha.fecha = DF_fecha.fecha.apply(lambda fecha: fecha[:-12])\n",
    "#DF_fecha.sample(2)"
   ]
  },
  {
   "cell_type": "code",
   "execution_count": null,
   "metadata": {},
   "outputs": [],
   "source": [
    "DF_fecha.fecha.value_counts().sort_index().plot(kind = 'line',title='Cantidad de Propiedades Publicadas en Distrito Federal')"
   ]
  },
  {
   "cell_type": "code",
   "execution_count": null,
   "metadata": {},
   "outputs": [],
   "source": [
    "df2 = a[a['provincia'] == 'Distrito Federal'].copy()\n",
    "df2 = df2[df2['tipodepropiedad'] == 'Edificio']\n",
    "mask = (df2['fecha'] < '2016-12')\n",
    "df2 = df2.loc[mask]\n",
    "df2.fecha = df2.fecha.apply(lambda fecha: fecha[:-15])"
   ]
  },
  {
   "cell_type": "code",
   "execution_count": null,
   "metadata": {},
   "outputs": [],
   "source": [
    "group = df2.groupby('fecha')['tipodepropiedad']\n",
    "group.count().plot(kind='bar',title='Cantidad De Edificios Publicados Por Año en Distrito Federal')"
   ]
  },
  {
   "cell_type": "code",
   "execution_count": null,
   "metadata": {},
   "outputs": [],
   "source": [
    "group = df2.groupby('fecha')['precio']\n",
    "s = group.aggregate(np.mean)\n",
    "s.plot(kind='bar', title = 'Promedio precio edificios en DF por anio')"
   ]
  },
  {
   "cell_type": "code",
   "execution_count": null,
   "metadata": {},
   "outputs": [],
   "source": [
    "df3 = a.copy()\n",
    "df3.fecha = df3.fecha.apply(lambda fecha: fecha[:-12])\n",
    "df3.fecha.value_counts().sort_index().plot('bar',title='PRUEBA DE QUE LOS DATOS DE 12-16 NO SE PUEDEN USAR')"
   ]
  },
  {
   "cell_type": "code",
   "execution_count": null,
   "metadata": {},
   "outputs": [],
   "source": [
    "df = pd.read_csv(\"./data/train.csv\")\n",
    "df[\"fecha\"].isnull().value_counts()"
   ]
  },
  {
   "cell_type": "markdown",
   "metadata": {},
   "source": [
    "Vamos a explorar el mes de diciembre de 2016. "
   ]
  },
  {
   "cell_type": "code",
   "execution_count": null,
   "metadata": {},
   "outputs": [],
   "source": [
    "df19 = a.copy()\n",
    "df19[\"fecha\"] = pd.to_datetime(df19[\"fecha\"])\n",
    "#d = diciembre_2016.loc[diciembre_2016.fecha.dt.month != 12].copy()\n",
    "diciembre_2016 = df19.loc[(df19[\"fecha\"].dt.year == 2016) & (df19[\"fecha\"].dt.month == 12)]\n",
    "g = diciembre_2016[\"fecha\"].value_counts().sort_index().plot(kind = 'bar')\n",
    "#d = d[\"fecha\"].unique()\n",
    "#cant_dias = d.fecha.count()\n",
    "\n",
    "#print(cant_dias)\n",
    "#ventas_promedio_por_dia = len(d.index)/30"
   ]
  },
  {
   "cell_type": "markdown",
   "metadata": {},
   "source": [
    "**Hay algo muuy raro el 2/12 /16 que no tiene casi publicaciones.** Y es llamativo que las publicaciones por día de diciembre tienen valores **muy** altos en comparacion con el resto de los meses del resto de los años. Por ejemplo solo entre el 1ro y 2do dia de diciembre hubo tantas publicaciones como todo el mes de febrero del 2013.Aparece uno solo pues todos tienen como hora 00:00 minetras que ese tiene una hora distinta.\n",
    "\n",
    "#### Para fines comparativos veremos la evolucion de las publicaciones por día el mes anterior"
   ]
  },
  {
   "cell_type": "code",
   "execution_count": null,
   "metadata": {},
   "outputs": [],
   "source": [
    "noviembre_2016 = df19.loc[(df19[\"fecha\"].dt.year == 2016) & (df19[\"fecha\"].dt.month == 11)]\n",
    "noviembre_2016[\"fecha\"].value_counts().sort_index().plot(kind = 'bar')"
   ]
  },
  {
   "cell_type": "code",
   "execution_count": null,
   "metadata": {},
   "outputs": [],
   "source": [
    "df4 = df3.copy()\n",
    "mask = (df4['fecha'] < '2016-12')\n",
    "df4 = df4.loc[mask]\n",
    "#df4.fecha = df4.fecha.apply(lambda fecha: fecha[:-3])\n",
    "df4.fecha.value_counts().sort_index().plot(kind = 'line', title = 'Aumento popularidad zonaprop')"
   ]
  },
  {
   "cell_type": "markdown",
   "metadata": {},
   "source": [
    "Buscamos ver en que mes son los picos"
   ]
  },
  {
   "cell_type": "code",
   "execution_count": null,
   "metadata": {},
   "outputs": [],
   "source": [
    "df5 = a.copy()\n",
    "df5[\"fecha\"] = pd.to_datetime(df5[\"fecha\"])\n",
    "ventas_2012 = df5.loc[df5[\"fecha\"].dt.year == 2012]\n",
    "ventas_2012[\"mes\"] = ventas_2012[\"fecha\"].dt.month\n",
    "ventas_promedio_por_mes = len(ventas_2012.index)/12\n",
    "\n",
    "\n",
    "g = ventas_2012.mes.value_counts().sort_index().plot(kind = 'bar')\n",
    "g.axhline(ventas_promedio_por_mes, color='r')"
   ]
  },
  {
   "cell_type": "markdown",
   "metadata": {},
   "source": [
    "Vemos que hay picos extraños en los meses 8, 9 y 10 del 2012 superiores a la media de publicaciones por mes, por lo tanto vamos a hacer un análisis mas profundo"
   ]
  },
  {
   "cell_type": "code",
   "execution_count": null,
   "metadata": {},
   "outputs": [],
   "source": [
    "ventas_2012_8 = ventas_2012.loc[ventas_2012[\"fecha\"].dt.month == 8]\n",
    "ventas_2012_8[\"fecha\"].value_counts().sort_index().plot(kind ='bar')"
   ]
  },
  {
   "cell_type": "markdown",
   "metadata": {},
   "source": [
    "Vemos como hay dos días con una actividad muy inusual en la página durante el mes de Agosto de 2012. "
   ]
  },
  {
   "cell_type": "code",
   "execution_count": null,
   "metadata": {},
   "outputs": [],
   "source": [
    "df6 = a.copy()\n",
    "df6[\"fecha\"] = pd.to_datetime(df6[\"fecha\"])\n",
    "ventas_2013 = df6.loc[df6[\"fecha\"].dt.year == 2013]\n",
    "ventas_2013[\"mes\"] = ventas_2013[\"fecha\"].dt.month\n",
    "ventas_2013.mes.value_counts().sort_index().plot(kind = 'bar')"
   ]
  },
  {
   "cell_type": "code",
   "execution_count": null,
   "metadata": {},
   "outputs": [],
   "source": [
    "df5[\"fecha\"] = pd.to_datetime(df5[\"fecha\"])\n",
    "ventas_2014 = df5.loc[df5[\"fecha\"].dt.year == 2014]\n",
    "ventas_2014[\"mes\"] = ventas_2014[\"fecha\"].dt.month\n",
    "ventas_2014.mes.value_counts().sort_index().plot(kind = 'bar')"
   ]
  },
  {
   "cell_type": "code",
   "execution_count": null,
   "metadata": {},
   "outputs": [],
   "source": [
    "df5[\"fecha\"] = pd.to_datetime(df5[\"fecha\"])\n",
    "ventas_2015 = df5.loc[df5[\"fecha\"].dt.year == 2015]\n",
    "ventas_2015[\"mes\"] = ventas_2015[\"fecha\"].dt.month\n",
    "ventas_2015.mes.value_counts().sort_index().plot(kind = 'bar')"
   ]
  },
  {
   "cell_type": "code",
   "execution_count": null,
   "metadata": {},
   "outputs": [],
   "source": [
    "df5[\"fecha\"] = pd.to_datetime(df5[\"fecha\"])\n",
    "ventas_2016 = df5.loc[(df5[\"fecha\"].dt.year == 2016) & (df5[\"fecha\"].dt.month != 12)]\n",
    "ventas_2016[\"mes\"] = ventas_2016[\"fecha\"].dt.month\n",
    "ventas_2016.mes = ventas_2016.mes\n",
    "ventas_2016.mes.value_counts().sort_index().plot(kind = 'bar')"
   ]
  },
  {
   "cell_type": "markdown",
   "metadata": {},
   "source": [
    "Haciendo un analisis un poco mas detallado. Podemos ver que en 2012 hay un pico anormal "
   ]
  }
 ],
 "metadata": {
  "kernelspec": {
   "display_name": "Python 3",
   "language": "python",
   "name": "python3"
  },
  "language_info": {
   "codemirror_mode": {
    "name": "ipython",
    "version": 3
   },
   "file_extension": ".py",
   "mimetype": "text/x-python",
   "name": "python",
   "nbconvert_exporter": "python",
   "pygments_lexer": "ipython3",
   "version": "3.7.3"
  }
 },
 "nbformat": 4,
 "nbformat_minor": 4
}
