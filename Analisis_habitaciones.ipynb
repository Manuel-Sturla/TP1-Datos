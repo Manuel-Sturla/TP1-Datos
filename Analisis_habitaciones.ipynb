{
 "cells": [
  {
   "cell_type": "code",
   "execution_count": null,
   "metadata": {},
   "outputs": [],
   "source": [
    "import pandas as pd\n",
    "import numpy as np\n",
    "import matplotlib.pyplot as plt"
   ]
  },
  {
   "cell_type": "code",
   "execution_count": null,
   "metadata": {},
   "outputs": [],
   "source": [
    "diccionario_tipos = {\n",
    "    \"tipodepropiedad\":\"category\",\n",
    "    \"provincia\":\"category\",\n",
    "    \"provincia\":\"category\",\n",
    "    #\"habitaciones\":\"int\",\n",
    "    #\"garages\":\"int\",\n",
    "    #\"banos\":\"int\",\n",
    "    #'metroscubiertos':, 'metrostotales', 'idzona', 'lat', 'lng',\n",
    "    'gimnasio':\"bool\",\n",
    "    'usosmultiples':\"bool\",\n",
    "    'piscina':\"bool\",\n",
    "    'escuelascercanas':\"bool\",\n",
    "    'centroscomercialescercanos':\"bool\"\n",
    "}\n",
    "df = pd.read_csv(\"data/train.csv\", dtype = diccionario_tipos)"
   ]
  },
  {
   "cell_type": "code",
   "execution_count": null,
   "metadata": {},
   "outputs": [],
   "source": [
    "df.columns"
   ]
  },
  {
   "cell_type": "code",
   "execution_count": null,
   "metadata": {},
   "outputs": [],
   "source": [
    "plt.figure(figsize=(10,5))\n",
    "cantidad_habitaciones = df[\"habitaciones\"].value_counts()\n",
    "cantidad_habitaciones_porcentaje = cantidad_habitaciones *100 / len(df.index)\n",
    "g = cantidad_habitaciones_porcentaje.sort_index().plot('bar')\n",
    "plt.title(\"Porcentaje de publicaciones según la cantidad de habitaciones\")\n",
    "g.set_xlabel(\"Cantidad de habitaciones\")\n",
    "g.set_ylabel(\"Porcentaje\")"
   ]
  },
  {
   "cell_type": "markdown",
   "metadata": {},
   "source": [
    "Hay una clara mayoría de propiedades con 3 habitaciones, siendo estas el 50% de las publicaciones del Data Set. Y se ve muy claramente como las propiedades con muchas habitaciones (5+) son una clara minoría\n",
    "\n",
    "#### Analisis de Propiedades con 3 habitaciones\n",
    "Dado que las propiedades con 3 habitaciones resultan un numero muy importante en los datos vamos a explorarlas mas a fondo"
   ]
  },
  {
   "cell_type": "code",
   "execution_count": null,
   "metadata": {},
   "outputs": [],
   "source": []
  },
  {
   "cell_type": "code",
   "execution_count": null,
   "metadata": {},
   "outputs": [],
   "source": []
  },
  {
   "cell_type": "code",
   "execution_count": null,
   "metadata": {},
   "outputs": [],
   "source": [
    "fig = plt.figure(figsize=(15,5))\n",
    "g =df.groupby(\"habitaciones\").agg({\"precio\":\"mean\"}).plot(kind = \"bar\")"
   ]
  },
  {
   "cell_type": "code",
   "execution_count": null,
   "metadata": {},
   "outputs": [],
   "source": [
    "df.loc[df[\"provincia\"] == \"Distrito Federal\"].groupby(\"habitaciones\").agg({\"precio\":\"mean\"}).plot(kind = \"bar\")"
   ]
  },
  {
   "cell_type": "code",
   "execution_count": null,
   "metadata": {},
   "outputs": [],
   "source": [
    "df[\"cantidad\"] = 1\n",
    "ciudad = df.groupby([\"provincia\",\"habitaciones\"]).agg({\"cantidad\":sum})\n",
    "ciudad.unstack().T.idxmax().map(lambda x: x[1])"
   ]
  },
  {
   "cell_type": "markdown",
   "metadata": {},
   "source": [
    "#### Analisis de las propiedades con 1 habitacion"
   ]
  },
  {
   "cell_type": "code",
   "execution_count": null,
   "metadata": {},
   "outputs": [],
   "source": [
    "monoambientes = df.loc[df[\"habitaciones\"] == 1]\n",
    "monoambientes[\"tipodepropiedad\"].value_counts().plot(\"bar\")"
   ]
  },
  {
   "cell_type": "code",
   "execution_count": null,
   "metadata": {},
   "outputs": [],
   "source": []
  }
 ],
 "metadata": {
  "kernelspec": {
   "display_name": "Python 3",
   "language": "python",
   "name": "python3"
  },
  "language_info": {
   "codemirror_mode": {
    "name": "ipython",
    "version": 3
   },
   "file_extension": ".py",
   "mimetype": "text/x-python",
   "name": "python",
   "nbconvert_exporter": "python",
   "pygments_lexer": "ipython3",
   "version": "3.7.3"
  }
 },
 "nbformat": 4,
 "nbformat_minor": 4
}
