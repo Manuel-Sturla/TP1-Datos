{
 "cells": [
  {
   "cell_type": "code",
   "execution_count": null,
   "metadata": {},
   "outputs": [],
   "source": [
    "%matplotlib inline\n",
    "#import geopandas as gpd\n",
    "import numpy as np\n",
    "import pandas as pd\n",
    "import seaborn as sns\n",
    "import matplotlib.pyplot as plt\n",
    "import sys\n",
    "#sys._enablelegacywindowsfsencoding()\n",
    "pd.set_option('display.max_columns', 100)\n",
    "pd.set_option('display.float_format', '{:.2f}'.format)\n",
    "pd.set_option('mode.chained_assignment', None)"
   ]
  },
  {
   "cell_type": "code",
   "execution_count": null,
   "metadata": {},
   "outputs": [],
   "source": [
    "path = \"./data/train.csv\"\n",
    "df = pd.read_csv(path, index_col='id', parse_dates=['fecha'])"
   ]
  },
  {
   "cell_type": "code",
   "execution_count": null,
   "metadata": {},
   "outputs": [],
   "source": [
    "df.provincia.mode()"
   ]
  },
  {
   "cell_type": "code",
   "execution_count": null,
   "metadata": {},
   "outputs": [],
   "source": [
    "df[\"cantidad\"] = 1\n",
    "principales = df.groupby([\"provincia\"]).agg({\"cantidad\":sum}).sort_values(ascending = False, by = \"cantidad\").plot(kind = \"bar\", figsize=(15,7), title='Cantidad de propiedades publicadas por provincia')"
   ]
  },
  {
   "cell_type": "code",
   "execution_count": null,
   "metadata": {},
   "outputs": [],
   "source": [
    "lista = df.groupby([\"provincia\"]).agg({\"cantidad\":sum}).sort_values(\"cantidad\",ascending = False).head(5)\n",
    "lista = lista.index.to_list()\n",
    "principalesDF = df[df[\"provincia\"].isin(lista)].copy()\n",
    "principalesDF = principalesDF[['provincia','precio']]\n",
    "plt.figure(figsize=(15, 7))\n",
    "plt.ticklabel_format(style='plain', axis='y')\n",
    "bplot = sns.boxplot(y='precio', x='provincia', data=principalesDF, width=0.7, palette=\"colorblind\").set_title(\"Precio en las 5 principales provincias\")"
   ]
  },
  {
   "cell_type": "code",
   "execution_count": null,
   "metadata": {},
   "outputs": [],
   "source": [
    "df.groupby('tipodepropiedad').agg({'cantidad':sum}).plot(kind='bar')"
   ]
  },
  {
   "cell_type": "code",
   "execution_count": null,
   "metadata": {},
   "outputs": [],
   "source": [
    "listaPrincipales = df.groupby(\"tipodepropiedad\").agg({\"cantidad\":sum}).sort_values(\"cantidad\", ascending=False).head(5).index.to_list()\n",
    "principalesProp = df[df.tipodepropiedad.isin(listaPrincipales)] .copy()\n",
    "plt.figure(figsize=(15, 7))\n",
    "plt.ticklabel_format(style='plain', axis='y')\n",
    "bplot2 = sns.boxplot(y='precio', x='tipodepropiedad', data=principalesProp, width=0.7, palette=\"colorblind\").set_title(\"Precio de los 5 principales tipos de propiedad\")"
   ]
  },
  {
   "cell_type": "code",
   "execution_count": null,
   "metadata": {},
   "outputs": [],
   "source": [
    "DF = df.loc[df.provincia == 'Distrito Federal'].copy()\n",
    "DF = DF.loc[df.tipodepropiedad == 'Apartamento']\n",
    "DF['anio'] = DF.fecha.dt.year\n",
    "DF['cantidad'] = 1\n",
    "DF = DF.groupby(['fecha']).agg({'precio':'mean', 'cantidad':sum}).reset_index()"
   ]
  },
  {
   "cell_type": "code",
   "execution_count": null,
   "metadata": {},
   "outputs": [],
   "source": [
    "plt.figure(figsize=(15, 7))\n",
    "plt.ticklabel_format(style='plain', axis='y')\n",
    "fig = plt.scatter(x=DF.fecha.tolist(), y=DF.precio)\n",
    "plt.title('Valor de los apartamentos en funcion del anio')\n",
    "plt.show()"
   ]
  },
  {
   "cell_type": "code",
   "execution_count": null,
   "metadata": {},
   "outputs": [],
   "source": [
    "plt.figure(figsize=(15, 7))\n",
    "plt.ticklabel_format(style='plain', axis='y')\n",
    "bplot3 = sns.boxplot(y='precio', x='habitaciones', data=df, width=0.7, palette='colorblind').set_title('Precio en funcion de la cantidad de habitaciones')"
   ]
  },
  {
   "cell_type": "code",
   "execution_count": null,
   "metadata": {},
   "outputs": [],
   "source": [
    "df.columns"
   ]
  },
  {
   "cell_type": "code",
   "execution_count": null,
   "metadata": {},
   "outputs": [],
   "source": [
    "beneficios = df[['gimnasio','usosmultiples', 'piscina', 'escuelascercanas', 'centroscomercialescercanos', 'precio']]\n",
    "plt.figure(figsize=(12, 7))\n",
    "plt.ticklabel_format(style='plain', axis='y')\n",
    "sns.violinplot(x='usosmultiples', y='precio', data=beneficios, order=[True, False]).set_title(\"Precio dependiendo de si tiene usos multiples o no\")"
   ]
  },
  {
   "cell_type": "code",
   "execution_count": null,
   "metadata": {},
   "outputs": [],
   "source": [
    "plt.figure(figsize=(12, 7))\n",
    "plt.ticklabel_format(style='plain', axis='y')\n",
    "sns.violinplot(x='gimnasio', y='precio', data=beneficios, order=[True, False]).set_title(\"Precio dependiendo de si tiene gimnasio o no\")"
   ]
  },
  {
   "cell_type": "code",
   "execution_count": null,
   "metadata": {},
   "outputs": [],
   "source": [
    "plt.figure(figsize=(12, 7))\n",
    "plt.ticklabel_format(style='plain', axis='y')\n",
    "sns.violinplot(x='piscina', y='precio', data=beneficios, order=[True, False]).set_title(\"Precio dependiendo de si tiene piscina o no\")"
   ]
  },
  {
   "cell_type": "code",
   "execution_count": null,
   "metadata": {},
   "outputs": [],
   "source": [
    "plt.figure(figsize=(12, 7))\n",
    "plt.ticklabel_format(style='plain', axis='y')\n",
    "sns.violinplot(x='centroscomercialescercanos', y='precio', data=beneficios, order=[True, False]).set_title(\"Precio dependiendo de si tiene centros comerciales cercanos o no\")"
   ]
  },
  {
   "cell_type": "code",
   "execution_count": null,
   "metadata": {},
   "outputs": [],
   "source": [
    "plt.figure(figsize=(12, 7))\n",
    "plt.ticklabel_format(style='plain', axis='y')\n",
    "sns.violinplot(x='escuelascercanas', y='precio', data=beneficios, order=[True, False]).set_title(\"Precio dependiendo de si tiene escuelas cercanas o no\")"
   ]
  }
 ],
 "metadata": {
  "kernelspec": {
   "display_name": "Python 3",
   "language": "python",
   "name": "python3"
  },
  "language_info": {
   "codemirror_mode": {
    "name": "ipython",
    "version": 3
   },
   "file_extension": ".py",
   "mimetype": "text/x-python",
   "name": "python",
   "nbconvert_exporter": "python",
   "pygments_lexer": "ipython3",
   "version": "3.7.3"
  }
 },
 "nbformat": 4,
 "nbformat_minor": 4
}
