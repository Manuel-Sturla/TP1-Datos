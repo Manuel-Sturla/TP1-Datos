{
 "cells": [
  {
   "cell_type": "code",
   "execution_count": null,
   "metadata": {},
   "outputs": [],
   "source": [
    "%matplotlib inline\n",
    "#import geopandas as gpd\n",
    "import numpy as np\n",
    "import pandas as pd\n",
    "import seaborn as sns\n",
    "import matplotlib.pyplot as plt\n",
    "import sys\n",
    "import datetime as dt\n",
    "#sys._enablelegacywindowsfsencoding()\n",
    "pd.set_option('display.max_columns', 100)\n",
    "pd.set_option('display.float_format', '{:.2f}'.format)\n",
    "pd.set_option('mode.chained_assignment', None)"
   ]
  },
  {
   "cell_type": "code",
   "execution_count": null,
   "metadata": {},
   "outputs": [],
   "source": [
    "path = \"./data/train.csv\"\n",
    "df = pd.read_csv(path, index_col='id', parse_dates=['fecha'])"
   ]
  },
  {
   "cell_type": "code",
   "execution_count": null,
   "metadata": {},
   "outputs": [],
   "source": [
    "len(df.provincia.unique())\n",
    "df.provincia.unique()"
   ]
  },
  {
   "cell_type": "code",
   "execution_count": null,
   "metadata": {},
   "outputs": [],
   "source": [
    "df[\"cantidad\"] = 1\n",
    "principales = df.groupby([\"provincia\"]).agg({\"cantidad\":sum}).sort_values(ascending = False, by = \"cantidad\").plot(kind = \"bar\", figsize=(15,7), title='Cantidad de propiedades publicadas por provincia')"
   ]
  },
  {
   "cell_type": "code",
   "execution_count": null,
   "metadata": {},
   "outputs": [],
   "source": [
    "lista = df.groupby([\"provincia\"]).agg({\"cantidad\":sum}).sort_values(\"cantidad\",ascending = False).head(5)\n",
    "lista = lista.index.to_list()\n",
    "principalesDF = df[df[\"provincia\"].isin(lista)].copy()\n",
    "principalesDF = principalesDF[['provincia','precio']]\n",
    "plt.figure(figsize=(15, 7))\n",
    "plt.ticklabel_format(style='plain', axis='y')\n",
    "bplot = sns.boxplot(y='precio', x='provincia', data=principalesDF, width=0.7, palette=\"colorblind\").set_title(\"Precio en las 5 principales provincias\")"
   ]
  },
  {
   "cell_type": "code",
   "execution_count": null,
   "metadata": {},
   "outputs": [],
   "source": [
    "plt.figure(figsize=(15, 7))\n",
    "df.tipodepropiedad.value_counts().plot(kind = 'bar')"
   ]
  },
  {
   "cell_type": "code",
   "execution_count": null,
   "metadata": {},
   "outputs": [],
   "source": [
    "listaPrincipales = df.groupby(\"tipodepropiedad\").agg({\"cantidad\":sum}).sort_values(\"cantidad\", ascending=False).head(5).index.to_list()\n",
    "principalesProp = df[df.tipodepropiedad.isin(listaPrincipales)] .copy()\n",
    "plt.figure(figsize=(15, 7))\n",
    "plt.ticklabel_format(style='plain', axis='y')\n",
    "bplot2 = sns.boxplot(y='precio', x='tipodepropiedad', data=principalesProp, width=0.7, palette=\"colorblind\").set_title(\"Precio de los 5 principales tipos de propiedad\")"
   ]
  },
  {
   "cell_type": "code",
   "execution_count": null,
   "metadata": {},
   "outputs": [
    {
     "data": {
      "text/plain": [
       "False    236842\n",
       "dtype: int64"
      ]
     },
     "execution_count": 53,
     "metadata": {},
     "output_type": "execute_result"
    }
   ],
   "source": [
    "principalesProp[\"swapear\"] = principalesProp[\"metrostotales\"] < principalesProp[\"metroscubiertos\"]\n",
    "aux = principalesProp.loc[principalesProp[\"swapear\"], \"metrostotales\"]\n",
    "if (not aux.empty):\n",
    "    principalesProp.loc[principalesProp[\"swapear\"],\"metrostotales\"] = \\\n",
    "    principalesProp.loc[principalesProp[\"swapear\"], \"metroscubiertos\"]\n",
    "    principalesProp.loc[principalesProp[\"swapear\"], \"metroscubiertos\"] = aux\n",
    "principalesProp.drop(columns=\"swapear\", inplace=True)\n",
    "(principalesProp[\"metrostotales\"] < principalesProp[\"metroscubiertos\"]).value_counts()"
   ]
  },
  {
   "cell_type": "code",
   "execution_count": 54,
   "metadata": {},
   "outputs": [
    {
     "data": {
      "image/png": "[encoded data removed]",
      "text/plain": [
       "<Figure size 1080x504 with 1 Axes>"
      ]
     },
     "metadata": {
      "needs_background": "light"
     },
     "output_type": "display_data"
    }
   ],
   "source": [
    "plt.figure(figsize=(15, 7))\n",
    "plt.ticklabel_format(style='plain', axis='y')\n",
    "deptoYCasaEnCondominio = principalesProp.loc[(principalesProp['tipodepropiedad'] == 'Departamento') | (principalesProp['tipodepropiedad'] == 'Casa en condominio')]\n",
    "deptoYCasaEnCondominio['precioXMetro'] = deptoYCasaEnCondominio['precio']/deptoYCasaEnCondominio['metrostotales']\n",
    "bplot2 = sns.boxplot(y='precioXMetro', x='tipodepropiedad', data=deptoYCasaEnCondominio, width=0.7, palette=\"colorblind\", showfliers=False).set_title(\"Precio de los 5 principales tipos de propiedad\")"
   ]
  },
  {
   "cell_type": "code",
   "execution_count": 55,
   "metadata": {},
   "outputs": [],
   "source": [
    "DF = df.groupby(['fecha']).agg({'precio':'mean', 'cantidad':sum}).reset_index().copy()"
   ]
  },
  {
   "cell_type": "code",
   "execution_count": null,
   "metadata": {},
   "outputs": [],
   "source": [
    "plt.figure(figsize=(15, 7))\n",
    "plt.ticklabel_format(style='plain', axis='y')\n",
    "DF['fechaOrd']=DF['fecha'].map(dt.datetime.toordinal)\n",
    "fig = plt.scatter(x=DF.fecha, y=DF.precio)\n",
    "x = DF['fechaOrd']\n",
    "y = DF['precio']\n",
    "f = np.poly1d(np.polyfit(x, y, deg=1))  \n",
    "plt.plot(x.unique(), f(x.unique()), c='r', linewidth=4);\n",
    "plt.title('Valor promedio de las propiedades en funcion del tiempo')"
   ]
  },
  {
   "cell_type": "code",
   "execution_count": null,
   "metadata": {},
   "outputs": [],
   "source": [
    "plt.figure(figsize=(15, 7))\n",
    "plt.ticklabel_format(style='plain', axis='y')\n",
    "bplot3 = sns.boxplot(y='precio', x='habitaciones', data=df, width=0.7, palette='colorblind').set_title('Precio en funcion de la cantidad de habitaciones')"
   ]
  },
  {
   "cell_type": "code",
   "execution_count": null,
   "metadata": {},
   "outputs": [],
   "source": [
    "plt.figure(figsize=(15, 7))\n",
    "plt.ticklabel_format(style='plain', axis='y')\n",
    "DF = df.groupby('habitaciones').agg({'precio':'mean'}).reset_index().copy()\n",
    "sns.barplot(x='habitaciones', y='precio', data=DF, palette='colorblind')"
   ]
  },
  {
   "cell_type": "code",
   "execution_count": null,
   "metadata": {},
   "outputs": [],
   "source": [
    "beneficios = df[['gimnasio','usosmultiples', 'piscina', 'escuelascercanas', 'centroscomercialescercanos', 'precio']]\n",
    "plt.figure(figsize=(12, 7))\n",
    "plt.ticklabel_format(style='plain', axis='y')\n",
    "sns.violinplot(x='usosmultiples', y='precio', data=beneficios, order=[True, False]).set_title(\"Precio dependiendo de si tiene usos multiples o no\")"
   ]
  },
  {
   "cell_type": "code",
   "execution_count": null,
   "metadata": {},
   "outputs": [],
   "source": [
    "plt.figure(figsize=(12, 7))\n",
    "plt.ticklabel_format(style='plain', axis='y')\n",
    "sns.violinplot(x='gimnasio', y='precio', data=beneficios, order=[True, False]).set_title(\"Precio dependiendo de si tiene gimnasio o no\")"
   ]
  },
  {
   "cell_type": "code",
   "execution_count": null,
   "metadata": {},
   "outputs": [],
   "source": [
    "plt.figure(figsize=(12, 7))\n",
    "plt.ticklabel_format(style='plain', axis='y')\n",
    "sns.violinplot(x='piscina', y='precio', data=beneficios, order=[True, False]).set_title(\"Precio dependiendo de si tiene piscina o no\")"
   ]
  },
  {
   "cell_type": "code",
   "execution_count": null,
   "metadata": {},
   "outputs": [],
   "source": [
    "plt.figure(figsize=(12, 7))\n",
    "plt.ticklabel_format(style='plain', axis='y')\n",
    "sns.violinplot(x='centroscomercialescercanos', y='precio', data=beneficios, order=[True, False]).set_title(\"Precio dependiendo de si tiene centros comerciales cercanos o no\")"
   ]
  },
  {
   "cell_type": "code",
   "execution_count": null,
   "metadata": {},
   "outputs": [],
   "source": [
    "plt.figure(figsize=(12, 7))\n",
    "plt.ticklabel_format(style='plain', axis='y')\n",
    "sns.violinplot(x='escuelascercanas', y='precio', data=beneficios, order=[True, False]).set_title(\"Precio dependiendo de si tiene escuelas cercanas o no\")"
   ]
  }
 ],
 "metadata": {
  "kernelspec": {
   "display_name": "Python 3",
   "language": "python",
   "name": "python3"
  },
  "language_info": {
   "codemirror_mode": {
    "name": "ipython",
    "version": 3
   },
   "file_extension": ".py",
   "mimetype": "text/x-python",
   "name": "python",
   "nbconvert_exporter": "python",
   "pygments_lexer": "ipython3",
   "version": "3.7.3"
  }
 },
 "nbformat": 4,
 "nbformat_minor": 4
}
