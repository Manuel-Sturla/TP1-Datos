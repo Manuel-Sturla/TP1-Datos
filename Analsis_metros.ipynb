{
 "cells": [
  {
   "cell_type": "code",
<<<<<<< Updated upstream
   "execution_count": null,
=======
   "execution_count": 7,
>>>>>>> Stashed changes
   "metadata": {},
   "outputs": [],
   "source": [
    "import pandas as pd\n",
    "import numpy as np\n",
    "import matplotlib.pyplot as plt"
   ]
  },
  {
   "cell_type": "code",
<<<<<<< Updated upstream
   "execution_count": null,
=======
   "execution_count": 8,
>>>>>>> Stashed changes
   "metadata": {},
   "outputs": [],
   "source": [
    "diccionario_tipos = {\n",
    "    \"tipodepropiedad\":\"category\",\n",
    "    \"provincia\":\"category\",\n",
    "    \"provincia\":\"category\",\n",
    "    #\"habitaciones\":\"int\",\n",
    "    #\"garages\":\"int\",\n",
    "    #\"banos\":\"int\",\n",
    "    #'metroscubiertos':, 'metrostotales', 'idzona', 'lat', 'lng',\n",
    "    'gimnasio':\"bool\",\n",
    "    'usosmultiples':\"bool\",\n",
    "    'piscina':\"bool\",\n",
    "    'escuelascercanas':\"bool\",\n",
    "    'centroscomercialescercanos':\"bool\"\n",
    "}\n",
    "df = pd.read_csv(\"data/train.csv\", dtype = diccionario_tipos)"
   ]
  },
  {
   "cell_type": "code",
<<<<<<< Updated upstream
   "execution_count": null,
   "metadata": {},
   "outputs": [],
=======
   "execution_count": 9,
   "metadata": {},
   "outputs": [
    {
     "data": {
      "text/plain": [
       "metrostotales      51467\n",
       "metroscubiertos    17400\n",
       "dtype: int64"
      ]
     },
     "execution_count": 9,
     "metadata": {},
     "output_type": "execute_result"
    }
   ],
>>>>>>> Stashed changes
   "source": [
    "df[[\"metrostotales\", \"metroscubiertos\"]].isnull().agg(sum)"
   ]
  },
  {
   "cell_type": "code",
<<<<<<< Updated upstream
   "execution_count": null,
   "metadata": {},
   "outputs": [],
=======
   "execution_count": 10,
   "metadata": {},
   "outputs": [
    {
     "data": {
      "text/plain": [
       "metrostotales      0.214446\n",
       "metroscubiertos    0.072500\n",
       "dtype: float64"
      ]
     },
     "execution_count": 10,
     "metadata": {},
     "output_type": "execute_result"
    }
   ],
>>>>>>> Stashed changes
   "source": [
    " df[[\"metrostotales\", \"metroscubiertos\"]].isnull().agg(sum) / df.shape[0]"
   ]
  },
  {
   "cell_type": "markdown",
   "metadata": {},
   "source": [
    "Podemos ver como las columnas \"Metros totales\" y \"Metros cubiertos\" tienen una gran cantidad de nulos, principalmente \"Metros totales\" que tiene un 21% de nulos."
   ]
  },
  {
   "cell_type": "code",
<<<<<<< Updated upstream
   "execution_count": null,
   "metadata": {},
   "outputs": [],
=======
   "execution_count": 11,
   "metadata": {},
   "outputs": [
    {
     "data": {
      "text/plain": [
       "(0, 23)"
      ]
     },
     "execution_count": 11,
     "metadata": {},
     "output_type": "execute_result"
    }
   ],
>>>>>>> Stashed changes
   "source": [
    "df.loc[(df[\"metrostotales\"] == 0) | (df[\"metroscubiertos\"] == 0)].shape"
   ]
  },
  {
   "cell_type": "code",
<<<<<<< Updated upstream
   "execution_count": null,
   "metadata": {},
   "outputs": [],
=======
   "execution_count": 12,
   "metadata": {},
   "outputs": [
    {
     "data": {
      "text/plain": [
       "(0, 23)"
      ]
     },
     "execution_count": 12,
     "metadata": {},
     "output_type": "execute_result"
    }
   ],
>>>>>>> Stashed changes
   "source": [
    "df.loc[(df[\"metrostotales\"].isnull()) & (df[\"metroscubiertos\"].isnull())].shape"
   ]
  },
  {
   "cell_type": "markdown",
   "metadata": {},
   "source": [
    "Por otro lado, estas columnas tienen dos particularidades:\n",
    " - No hay **ninguna** entrada que tenga los **dos** campos como nulos al mismo tiempo.\n",
    " - En ningún caso tienen como valor **0**.\n",
    " \n",
    "Es decir, no hay ninguna propiedad que tenga las dos caracterísitcas incompletas sin embargo hay gran cantidad de nulos en ambas categorías por separado.\n",
    "\n",
    "Veamos cual es la relacion entre que datos tiene cada propiedad"
   ]
  },
  {
   "cell_type": "code",
<<<<<<< Updated upstream
   "execution_count": null,
   "metadata": {},
   "outputs": [],
=======
   "execution_count": 13,
   "metadata": {},
   "outputs": [
    {
     "data": {
      "text/plain": [
       "True     171133\n",
       "False     68867\n",
       "Name: tiene_los_dos, dtype: int64"
      ]
     },
     "execution_count": 13,
     "metadata": {},
     "output_type": "execute_result"
    }
   ],
>>>>>>> Stashed changes
   "source": [
    "df[\"tiene_los_dos\"] = df[\"metrostotales\"].notnull() & df[\"metroscubiertos\"].notnull()\n",
    "df[\"tiene_los_dos\"].value_counts()"
   ]
  },
  {
   "cell_type": "code",
<<<<<<< Updated upstream
   "execution_count": null,
   "metadata": {},
   "outputs": [],
=======
   "execution_count": 14,
   "metadata": {},
   "outputs": [
    {
     "data": {
      "text/plain": [
       " 0.0     37884\n",
       " 20.0     2583\n",
       " 10.0     2482\n",
       "-20.0     2333\n",
       "-30.0     2098\n",
       "Name: metros_descubiertos, dtype: int64"
      ]
     },
     "execution_count": 14,
     "metadata": {},
     "output_type": "execute_result"
    }
   ],
>>>>>>> Stashed changes
   "source": [
    "propiedades_con_metros= df.loc[df[\"tiene_los_dos\"] == True].copy()\n",
    "propiedades_con_metros[\"metros_descubiertos\"] = propiedades_con_metros[\"metrostotales\"] - propiedades_con_metros[\"metroscubiertos\"]\n",
    "propiedades_con_metros[\"metros_descubiertos\"].value_counts().head()"
   ]
  },
  {
   "cell_type": "code",
<<<<<<< Updated upstream
   "execution_count": null,
   "metadata": {},
   "outputs": [],
=======
   "execution_count": 15,
   "metadata": {},
   "outputs": [
    {
     "data": {
      "text/plain": [
       "Text(0, 0.5, 'Cantidad de propiedades')"
      ]
     },
     "execution_count": 15,
     "metadata": {},
     "output_type": "execute_result"
    },
    {
     "data": {
      "image/png": "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\n",
      "text/plain": [
       "<Figure size 720x360 with 1 Axes>"
      ]
     },
     "metadata": {
      "needs_background": "light"
     },
     "output_type": "display_data"
    }
   ],
>>>>>>> Stashed changes
   "source": [
    "fig = plt.figure(figsize = (10,5))\n",
    "g = propiedades_con_metros[\"metros_descubiertos\"].hist(bins=41)\n",
    "plt.title(\"Histograma de la diferencia de metros totales con metros cubiertos\")\n",
    "g.set_xlabel(\"Diferencia entre Metros totales y cubiertos\")\n",
    "g.set_ylabel(\"Cantidad de propiedades\")"
   ]
  },
  {
   "cell_type": "code",
<<<<<<< Updated upstream
   "execution_count": null,
=======
   "execution_count": 16,
>>>>>>> Stashed changes
   "metadata": {},
   "outputs": [],
   "source": [
    "print(\"Proporción de propiedades con MAS metros cubiertos que totales: \", \\\n",
    "      (df.loc[df[\"metrostotales\"] < df[\"metroscubiertos\"]].copy().shape[0]) / df.shape[0])\n"
   ]
  },
  {
   "cell_type": "markdown",
   "metadata": {},
   "source": [
    "Descubrimos que a un 29% de las propiedades tienen una cantidad de metros cubiertos mayor a la de metros totales. Pero haciendo un histograma de la diferencia entre estos dos valores podemos ver que es muy simétrico. \n",
    "Dado que sabemos que para ninguno de estos casos los valores son nulos. Deducimos que es muy probable que haya datos ingresados al revez. Es decir, que se ingresó en metros cubiertos el valor que debería estar en metros totales y viceversa."
   ]
  },
  {
   "cell_type": "code",
<<<<<<< Updated upstream
   "execution_count": null,
   "metadata": {},
   "outputs": [],
=======
   "execution_count": 17,
   "metadata": {},
   "outputs": [
    {
     "data": {
      "text/plain": [
       "Text(0, 0.5, 'Proporcion')"
      ]
     },
     "execution_count": 17,
     "metadata": {},
     "output_type": "execute_result"
    },
    {
     "data": {
      "image/png": "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\n",
      "text/plain": [
       "<Figure size 720x360 with 1 Axes>"
      ]
     },
     "metadata": {
      "needs_background": "light"
     },
     "output_type": "display_data"
    }
   ],
>>>>>>> Stashed changes
   "source": [
    "fig = plt.figure(figsize = (10,5))\n",
    "cantidad_de_tipos_propiedades = df[\"tipodepropiedad\"].value_counts()\n",
    "cantidad_de_tipos_propiedades_negativos = df.loc[df[\"metrostotales\"] < df[\"metroscubiertos\"], \"tipodepropiedad\"].copy().value_counts()\n",
    "proporcion = cantidad_de_tipos_propiedades_negativos / cantidad_de_tipos_propiedades\n",
    "g = proporcion.sort_values(ascending=False).plot(kind=\"bar\")\n",
    "plt.title(\"Proporcion de propiedades con mas metros cubiertos que totales\")\n",
    "g.set_xlabel(\"Tipos de propiedades\")\n",
    "g.set_ylabel(\"Proporcion\")"
   ]
  },
  {
   "cell_type": "markdown",
   "metadata": {},
   "source": [
    "Podemos ver como este fenomeno se produce mas en propiedades que es mas común que tengan un poco de terreno descubierto (casas por ejemplo), en propiedades que pueden llegar a tener metros compartidos (edificios con patio común) o propiedades que puedan tener mas de una planta (duplex). Todos estas características suman a la posibilidad de que los datos estén cargados de forma errónea."
   ]
  },
  {
   "cell_type": "markdown",
   "metadata": {},
   "source": [
    "#### Vamos a intercambiar los valores de metros totales y cubieros para aquellas propiedades que tienen mas metrs cubiertos que totales"
   ]
  },
  {
   "cell_type": "code",
<<<<<<< Updated upstream
   "execution_count": null,
   "metadata": {},
   "outputs": [],
   "source": [
    "def swap_selectivo(fil):\n",
    "    if fil[\"metrostotales\"] < fil[\"metroscubiertos\"]:\n",
    "        aux = fil[\"metrostotales\"]\n",
    "        fil[\"metrostotales\"] = fil[\"metroscubiertos\"]\n",
    "        fil[\"metroscubiertos\"] = fil[\"metrostotales\"]\n",
    "    return fil\n",
    "\"\"\"\n",
    "df_con_estilo = df.apply( swap_selectivo, axis=1).copy()\n",
    "df_con_estilo[\"metrostotales\"] - df_con_estilo[\"metroscubiertos\"]\"\"\"\n",
    "df[\"swapear\"] = df[\"metrostotales\"] < df[\"metroscubiertos\"]\n",
    "\n",
    "aux = df.loc[df[\"swapear\"], \"metrostotales\"].copy()\n",
    "if (not aux.empty):\n",
    "    df.loc[df[\"swapear\"],\"metrostotales\"] = df.loc[df[\"swapear\"], \"metroscubiertos\"]\n",
    "    df[\"metroscubiertos\"] = aux\n",
    "df.drop(columns=\"swapear\", inplace=True)\n",
    "(df[\"metrostotales\"] < df[\"metroscubiertos\"]).value_counts()\n",
    "df[[\"metrostotales\", \"metroscubiertos\"]]"
   ]
  },
  {
   "cell_type": "code",
   "execution_count": null,
   "metadata": {},
   "outputs": [],
   "source": [
    "df.groupby(\"tipodepropiedad\").agg({\"metrostotales\":\"mean\"}).plot(kind = \"bar\")"
   ]
  },
  {
   "cell_type": "code",
   "execution_count": null,
   "metadata": {},
   "outputs": [],
   "source": [
    "df[\"patio\"] = df[\"metrostotales\"] - df[\"metroscubiertos\"]\n",
    "df.groupby(\"tipodepropiedad\").agg({\"patio\":\"mean\"}).plot(kind = \"bar\")"
   ]
  },
  {
   "cell_type": "code",
   "execution_count": null,
   "metadata": {},
   "outputs": [],
=======
   "execution_count": 18,
   "metadata": {},
   "outputs": [
    {
     "ename": "NameError",
     "evalue": "name 'b' is not defined",
     "output_type": "error",
     "traceback": [
      "\u001b[0;31m---------------------------------------------------------------------------\u001b[0m",
      "\u001b[0;31mNameError\u001b[0m                                 Traceback (most recent call last)",
      "\u001b[0;32m<ipython-input-18-d4ca811d9934>\u001b[0m in \u001b[0;36m<module>\u001b[0;34m\u001b[0m\n\u001b[0;32m----> 1\u001b[0;31m \u001b[0mprop_cubiertas\u001b[0m \u001b[0;34m=\u001b[0m \u001b[0mb\u001b[0m\u001b[0;34m.\u001b[0m\u001b[0mloc\u001b[0m\u001b[0;34m[\u001b[0m\u001b[0mb\u001b[0m\u001b[0;34m[\u001b[0m\u001b[0;34m\"metros_descubiertos\"\u001b[0m\u001b[0;34m]\u001b[0m \u001b[0;34m==\u001b[0m \u001b[0;36m0\u001b[0m\u001b[0;34m]\u001b[0m\u001b[0;34m\u001b[0m\u001b[0;34m\u001b[0m\u001b[0m\n\u001b[0m\u001b[1;32m      2\u001b[0m \u001b[0mprop_cubiertas\u001b[0m\u001b[0;34m[\u001b[0m\u001b[0;34m\"tipodepropiedad\"\u001b[0m\u001b[0;34m]\u001b[0m\u001b[0;34m.\u001b[0m\u001b[0mvalue_counts\u001b[0m\u001b[0;34m(\u001b[0m\u001b[0;34m)\u001b[0m\u001b[0;34m\u001b[0m\u001b[0;34m\u001b[0m\u001b[0m\n",
      "\u001b[0;31mNameError\u001b[0m: name 'b' is not defined"
     ]
    }
   ],
>>>>>>> Stashed changes
   "source": [
    "prop_cubiertas = b.loc[b[\"metros_descubiertos\"] == 0]\n",
    "prop_cubiertas[\"tipodepropiedad\"].value_counts()"
   ]
  },
  {
   "cell_type": "markdown",
   "metadata": {},
   "source": [
    "#### Analizamos las propiedades que tienen algunos de los metros nulos"
   ]
  },
  {
   "cell_type": "code",
   "execution_count": null,
   "metadata": {},
   "outputs": [],
   "source": [
    "metrostotales_nulos = df.loc[df[\"metrostotales\"].isnull()]\n"
   ]
  },
  {
   "cell_type": "code",
   "execution_count": null,
   "metadata": {},
   "outputs": [],
   "source": []
  },
  {
   "cell_type": "code",
   "execution_count": null,
   "metadata": {},
   "outputs": [],
   "source": []
  }
 ],
 "metadata": {
  "kernelspec": {
   "display_name": "Python 3",
   "language": "python",
   "name": "python3"
  },
  "language_info": {
   "codemirror_mode": {
    "name": "ipython",
    "version": 3
   },
   "file_extension": ".py",
   "mimetype": "text/x-python",
   "name": "python",
   "nbconvert_exporter": "python",
   "pygments_lexer": "ipython3",
   "version": "3.7.3"
  }
 },
 "nbformat": 4,
 "nbformat_minor": 4
}
