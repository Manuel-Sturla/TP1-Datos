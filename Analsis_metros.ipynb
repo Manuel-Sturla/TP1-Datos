{
 "cells": [
  {
   "cell_type": "code",
   "execution_count": null,
   "metadata": {},
   "outputs": [],
   "source": [
    "import pandas as pd\n",
    "import numpy as np\n",
    "import matplotlib.pyplot as plt\n",
    "import seaborn as sns\n",
    "import matplotlib.ticker as ticker"
   ]
  },
  {
   "cell_type": "code",
   "execution_count": null,
   "metadata": {},
   "outputs": [],
   "source": [
    "diccionario_tipos = {\n",
    "    \"tipodepropiedad\":\"category\",\n",
    "    \"provincia\":\"category\",\n",
    "    \"provincia\":\"category\",\n",
    "    #\"habitaciones\":\"int\",\n",
    "    #\"garages\":\"int\",\n",
    "    #\"banos\":\"int\",\n",
    "    #'metroscubiertos':, 'metrostotales', 'idzona', 'lat', 'lng',\n",
    "    'gimnasio':\"bool\",\n",
    "    'usosmultiples':\"bool\",\n",
    "    'piscina':\"bool\",\n",
    "    'escuelascercanas':\"bool\",\n",
    "    'centroscomercialescercanos':\"bool\"\n",
    "}\n",
    "df = pd.read_csv(\"data/train.csv\", dtype = diccionario_tipos)"
   ]
  },
  {
   "cell_type": "code",
   "execution_count": null,
   "metadata": {},
   "outputs": [],
   "source": [
    "df[[\"metrostotales\", \"metroscubiertos\"]].isna().sum()"
   ]
  },
  {
   "cell_type": "code",
   "execution_count": null,
   "metadata": {},
   "outputs": [],
   "source": [
    " porcentaje_metros_nulos = df[[\"metrostotales\", \"metroscubiertos\"]].isna().sum() / df.shape[0]\n",
    "porcentaje_metros_nulos"
   ]
  },
  {
   "cell_type": "code",
   "execution_count": null,
   "metadata": {},
   "outputs": [],
   "source": [
    "metros = df[[\"metrostotales\", \"metroscubiertos\"]].copy()\n",
    "metros[\"es_nulo_totales\"] = metros[\"metrostotales\"].isna().astype(int)\n",
    "metros[\"es_nulo_cubiertos\"] = metros[\"metroscubiertos\"].isna().astype(int)\n",
    "\n",
    "g = (metros[\"es_nulo_totales\"].value_counts()/len(metros)).plot(\"pie\", title = \"Porcentaje nulos Metros totales\",\\\n",
    "    labels=[\"No Nulos\", \"Nulos\"], wedgeprops={\"width\":0.5, \"edgecolor\":'w'}, explode = [0,0.05], autopct='%1.1f%%',\\\n",
    "            colors = [\"green\", \"red\"])\n",
    "\n",
    "g.set_ylabel(\"\")\n"
   ]
  },
  {
   "cell_type": "code",
   "execution_count": null,
   "metadata": {},
   "outputs": [],
   "source": [
    "porcentaje_metros_cub_nulos = metros[\"es_nulo_cubiertos\"].value_counts(ascending=False)/len(metros)\n",
    "\n",
    "g = porcentaje_metros_cub_nulos.plot(\"pie\", title = \"Porcentaje nulos Metros cubiertos\",\\\n",
    "    labels=[\"No nulos\", \"Nulos\"], wedgeprops={\"width\":0.5, \"edgecolor\":'w'}, explode = [0.03,0], autopct='%1.1f%%',\n",
    "                                    colors = [\"green\", \"red\"])\n",
    "g.set_ylabel(\"\")\n",
    "porcentaje_metros_cub_nulos"
   ]
  },
  {
   "cell_type": "markdown",
   "metadata": {},
   "source": [
    "Podemos ver como las columnas \"Metros totales\" y \"Metros cubiertos\" tienen una gran cantidad de nulos, principalmente \"Metros totales\" que tiene un 21% de nulos."
   ]
  },
  {
   "cell_type": "code",
   "execution_count": null,
   "metadata": {},
   "outputs": [],
   "source": [
    "df.loc[(df[\"metrostotales\"] == 0) | (df[\"metroscubiertos\"] == 0)].shape"
   ]
  },
  {
   "cell_type": "code",
   "execution_count": null,
   "metadata": {},
   "outputs": [],
   "source": [
    "df.loc[(df[\"metrostotales\"].isna()) & (df[\"metroscubiertos\"].isna())].shape"
   ]
  },
  {
   "cell_type": "markdown",
   "metadata": {},
   "source": [
    "Por otro lado, estas columnas tienen dos particularidades:\n",
    " - No hay **ninguna** entrada que tenga los **dos** campos como nulos al mismo tiempo.\n",
    " - En ningún caso tienen como valor **0**.\n",
    " \n",
    "Es decir, no hay ninguna propiedad que tenga las dos caracterísitcas incompletas sin embargo hay gran cantidad de nulos en ambas categorías por separado.\n",
    "\n",
    "Veamos cual es la relacion entre que datos tiene cada propiedad"
   ]
  },
  {
   "cell_type": "code",
   "execution_count": null,
   "metadata": {},
   "outputs": [],
   "source": [
    "df[\"tiene_los_dos\"] = df[\"metrostotales\"].notnull() & df[\"metroscubiertos\"].notnull()\n",
    "df[\"tiene_los_dos\"].value_counts()"
   ]
  },
  {
   "cell_type": "code",
   "execution_count": null,
   "metadata": {},
   "outputs": [],
   "source": [
    "propiedades_con_metros= df.loc[df[\"tiene_los_dos\"] == True].copy()\n",
    "propiedades_con_metros[\"metros_descubiertos\"] = propiedades_con_metros[\"metrostotales\"] - propiedades_con_metros[\"metroscubiertos\"]\n",
    "propiedades_con_metros[\"metros_descubiertos\"].value_counts().head()"
   ]
  },
  {
   "cell_type": "code",
   "execution_count": null,
   "metadata": {},
   "outputs": [],
   "source": [
    "fig = plt.figure(figsize = (10,5))\n",
    "g = propiedades_con_metros[\"metros_descubiertos\"].hist(bins=41)\n",
    "plt.title(\"Histograma de la diferencia de metros totales con metros cubiertos\")\n",
    "g.set_xlabel(\"Diferencia entre Metros totales y cubiertos\")\n",
    "g.set_ylabel(\"Cantidad de propiedades\")"
   ]
  },
  {
   "cell_type": "code",
   "execution_count": null,
   "metadata": {},
   "outputs": [],
   "source": [
    "metros[\"diferencia_negativa\"] = (metros[\"metrostotales\"] < metros[\"metroscubiertos\"]).astype(int)\n",
    "print(\"Proporción de propiedades con MAS metros cubiertos que totales: \", \\\n",
    "      metros.loc[metros[\"diferencia_negativa\"], \"diferencia_negativa\"].sum() / df.shape[0])\n",
    "g = metros[\"diferencia_negativa\"].value_counts().plot(\"pie\", title = \"Diferencia entre metros totales y cubiertos\",\\\n",
    "    labels=[\"Positiva\", \"Negativa\"], wedgeprops={\"width\":0.5, \"edgecolor\":'w'}, explode = [0.03,0], autopct='%1.1f%%',\n",
    "                                    colors = [\"green\", \"red\"])\n",
    "g.set_ylabel(\"\")"
   ]
  },
  {
   "cell_type": "markdown",
   "metadata": {},
   "source": [
    "Descubrimos que a un 29% de las propiedades tienen una cantidad de metros cubiertos mayor a la de metros totales. Pero haciendo un histograma de la diferencia entre estos dos valores podemos ver que es muy simétrico. \n",
    "Dado que sabemos que para ninguno de estos casos los valores son nulos. Deducimos que es muy probable que haya datos ingresados al revez. Es decir, que se ingresó en metros cubiertos el valor que debería estar en metros totales y viceversa."
   ]
  },
  {
   "cell_type": "code",
   "execution_count": null,
   "metadata": {},
   "outputs": [],
   "source": [
    "fig = plt.figure(figsize = (10,5))\n",
    "cantidad_de_tipos_propiedades = df[\"tipodepropiedad\"].value_counts()\n",
    "cantidad_de_tipos_propiedades_negativos = df.loc[df[\"metrostotales\"] < df[\"metroscubiertos\"], \"tipodepropiedad\"].copy().value_counts()\n",
    "proporcion = cantidad_de_tipos_propiedades_negativos / cantidad_de_tipos_propiedades\n",
    "g = proporcion.sort_values(ascending=False).plot(kind=\"bar\")\n",
    "plt.title(\"Proporcion de propiedades con mas metros cubiertos que totales\")\n",
    "g.set_xlabel(\"Tipos de propiedades\")\n",
    "g.set_ylabel(\"Proporcion\")"
   ]
  },
  {
   "cell_type": "markdown",
   "metadata": {},
   "source": [
    "Podemos ver como este fenomeno se produce mas en propiedades que es mas común que tengan un poco de terreno descubierto (casas por ejemplo), en propiedades que pueden llegar a tener metros compartidos (edificios con patio común) o propiedades que puedan tener mas de una planta (duplex). Todos estas características suman a la posibilidad de que los datos estén cargados de forma errónea."
   ]
  },
  {
   "cell_type": "markdown",
   "metadata": {},
   "source": [
    "#### Vamos a intercambiar los valores de metros totales y cubieros para aquellas propiedades que tienen mas metrs cubiertos que totales"
   ]
  },
  {
   "cell_type": "code",
   "execution_count": null,
   "metadata": {},
   "outputs": [],
   "source": [
    "df[\"swapear\"] = df[\"metrostotales\"] < df[\"metroscubiertos\"]\n",
    "df_metros_arreglados = df.copy()\n",
    "aux = df_metros_arreglados.loc[df_metros_arreglados[\"swapear\"], \"metrostotales\"]\n",
    "if (not aux.empty):\n",
    "    df_metros_arreglados.loc[df_metros_arreglados[\"swapear\"],\"metrostotales\"] = \\\n",
    "    df_metros_arreglados.loc[df_metros_arreglados[\"swapear\"], \"metroscubiertos\"]\n",
    "    df_metros_arreglados.loc[df_metros_arreglados[\"swapear\"], \"metroscubiertos\"] = aux\n",
    "df_metros_arreglados.drop(columns=\"swapear\", inplace=True)\n",
    "(df_metros_arreglados[\"metrostotales\"] < df_metros_arreglados[\"metroscubiertos\"]).value_counts()\n"
   ]
  },
  {
   "cell_type": "code",
   "execution_count": null,
   "metadata": {},
   "outputs": [],
   "source": [
    "df_metros_arreglados.loc[df_metros_arreglados[\"metroscubiertos\"].isnull() & \\\n",
    "                        df_metros_arreglados[\"metrostotales\"].isnull()].shape"
   ]
  },
  {
   "cell_type": "code",
   "execution_count": null,
   "metadata": {},
   "outputs": [],
   "source": [
    "\n",
    "g = df_metros_arreglados.groupby(\"tipodepropiedad\").agg({\"metrostotales\":\"mean\"})\\\n",
    "    .sort_values(by=\"metrostotales\", ascending = False)[:-2].plot(kind = \"bar\", figsize=(10,5))\n",
    "plt.title(\"Promedio de metros totales por tipo de propiedad\")\n",
    "g.set_xlabel(\"Tipo de propiedad\")\n",
    "g.set_ylabel(\"Metros totales\")\n",
    "g.legend_.remove()"
   ]
  },
  {
   "cell_type": "code",
   "execution_count": null,
   "metadata": {},
   "outputs": [],
   "source": [
    "df_metros_arreglados.loc[df_metros_arreglados[\"tipodepropiedad\"].isin([\"Hospedaje\", \"Garage\"]), \"metrostotales\"]"
   ]
  },
  {
   "cell_type": "code",
   "execution_count": null,
   "metadata": {},
   "outputs": [],
   "source": [
    "plt.figure(figsize=(10,5))\n",
    "ax = plt.axes()\n",
    "g = df_metros_arreglados[\"metrostotales\"].plot.hist(bins=15, alpha = 0.7)\n",
    "g.set_xlabel(\"Metros totales\")\n",
    "g.set_ylabel(\"Frecuencia\")\n",
    "plt.title(\"Histograma de la distribucion de los metros totales en las propiedades\")\n",
    "ax.xaxis.set_major_locator(ticker.MultipleLocator(50)) "
   ]
  },
  {
   "cell_type": "code",
   "execution_count": null,
   "metadata": {},
   "outputs": [],
   "source": [
    "plt.figure(figsize=(4,3))\n",
    "ax = plt.axes()\n",
    "casas = df_metros_arreglados.loc[df_metros_arreglados[\"tipodepropiedad\"] == \"Casa\"].copy()\n",
    "\n",
    "df_metros_arreglados[\"metrostotales\"].plot.hist(bins=15, alpha = 0.5)\n",
    "g = casas[\"metrostotales\"].plot.hist(bins=20, alpha = 0.8)\n",
    "plt.title(\"Histograma de los metros totales\")\n",
    "ax.xaxis.set_major_locator(ticker.MultipleLocator(50)) \n",
    "plt.legend(labels=(\"Todas las propiedades\", \"Casas\"))\n",
    "g.set_xlabel(\"Metros totales\")\n",
    "g.set_ylabel(\"Frecuencia\")"
   ]
  },
  {
   "cell_type": "code",
   "execution_count": null,
   "metadata": {},
   "outputs": [],
   "source": [
    "plt.figure(figsize=(4,3))\n",
    "ax2 = plt.axes()\n",
    "apartamentos = df_metros_arreglados.loc[df_metros_arreglados[\"tipodepropiedad\"] == \"Apartamento\"].copy()\n",
    "df_metros_arreglados[\"metrostotales\"].plot.hist(bins=15, alpha = 0.5)\n",
    "h = apartamentos[\"metrostotales\"].plot.hist(bins=20, alpha = 0.8)\n",
    "\n",
    "plt.title(\"Histograma de los metros totales\")\n",
    "ax2.xaxis.set_major_locator(ticker.MultipleLocator(50)) \n",
    "plt.legend(labels=(\"Todas las propiedades\", \"Apartamento\"))\n",
    "h.set_xlabel(\"Metros totales\")\n",
    "h.set_ylabel(\"Frecuencia\")"
   ]
  },
  {
   "cell_type": "code",
   "execution_count": null,
   "metadata": {},
   "outputs": [],
   "source": [
    "df_metros_arreglados[\"patio\"] = df_metros_arreglados[\"metrostotales\"] - df_metros_arreglados[\"metroscubiertos\"]\n",
    "df_metros_arreglados.groupby(\"tipodepropiedad\").agg({\"patio\":\"mean\"}).sort_values(by=\"patio\", ascending = False).plot(kind = \"bar\")"
   ]
  },
  {
   "cell_type": "code",
   "execution_count": null,
   "metadata": {},
   "outputs": [],
   "source": []
  },
  {
   "cell_type": "markdown",
   "metadata": {},
   "source": [
    "#### Alanizamos como afectan los metros al precio"
   ]
  },
  {
   "cell_type": "code",
   "execution_count": null,
   "metadata": {},
   "outputs": [],
   "source": [
    "def clasificar_por_tamanio(fila):\n",
    "    if fila[\"metrostotales\"] in range(0, 70): return \"Chico\"\n",
    "    if fila[\"metrostotales\"] in range(70, 150): return \"Mediano\"\n",
    "    if fila[\"metrostotales\"] in range(150, 250): return \"Grande\"\n",
    "    if fila[\"metrostotales\"] in range(250, 500): return \"Muy grande\"\n",
    "df_metros_arreglados[\"clasif_tamanio\"] = df_metros_arreglados.apply(clasificar_por_tamanio, axis=1)\n"
   ]
  },
  {
   "cell_type": "markdown",
   "metadata": {},
   "source": [
    "Veremos a continuación cuales son los tipos de propiedad que predominan en cada Tamaño de la clasificación."
   ]
  },
  {
   "cell_type": "code",
   "execution_count": null,
   "metadata": {},
   "outputs": [],
   "source": [
    "plt.figure(figsize=((2,2)))\n",
    "df_metros_arreglados[\"cantidad\"] = 1\n",
    "por_tamanio_y_tipo = df_metros_arreglados.groupby([\"clasif_tamanio\", \"tipodepropiedad\"]).agg({\"cantidad\":np.sum}).reset_index().set_index(\"tipodepropiedad\")\n",
    "g = por_tamanio_y_tipo.loc[por_tamanio_y_tipo[\"clasif_tamanio\"] == \"Chico\"].nlargest(4,columns=\"cantidad\").plot(kind = \"bar\", rot=20)\n",
    "plt.title(\"Top 4 tipos de propiedad en propiedades chicas\")\n",
    "g.set_xlabel(\"Tipo de propiedad\")\n",
    "g.set_ylabel(\"Cantidad de publicaciones\")"
   ]
  },
  {
   "cell_type": "code",
   "execution_count": null,
   "metadata": {},
   "outputs": [],
   "source": [
    "plt.figure(figsize=((2,2)))\n",
    "df_metros_arreglados[\"cantidad\"] = 1\n",
    "por_tamanio_y_tipo = df_metros_arreglados.groupby([\"clasif_tamanio\", \"tipodepropiedad\"]).agg({\"cantidad\":np.sum}).reset_index().set_index(\"tipodepropiedad\")\n",
    "g = por_tamanio_y_tipo.loc[por_tamanio_y_tipo[\"clasif_tamanio\"] == \"Mediano\"].nlargest(4,columns=\"cantidad\").plot(kind = \"bar\", rot=20)\n",
    "plt.title(\"Top 4 tipos de propiedad en propiedades medianas\")\n",
    "g.set_xlabel(\"Tipo de propiedad\")\n",
    "g.set_ylabel(\"Cantidad de publicaciones\")"
   ]
  },
  {
   "cell_type": "code",
   "execution_count": null,
   "metadata": {},
   "outputs": [],
   "source": [
    "plt.figure(figsize=((3,2)))\n",
    "df_metros_arreglados[\"cantidad\"] = 1\n",
    "por_tamanio_y_tipo = df_metros_arreglados.groupby([\"clasif_tamanio\", \"tipodepropiedad\"]).agg({\"cantidad\":np.sum}).reset_index().set_index(\"tipodepropiedad\")\n",
    "g = por_tamanio_y_tipo.loc[por_tamanio_y_tipo[\"clasif_tamanio\"] == \"Grande\"].nlargest(4,columns=\"cantidad\").plot(kind = \"bar\", rot=20)\n",
    "plt.title(\"Top 4 tipos de propiedad en propiedades grandes\")\n",
    "g.set_xlabel(\"Tipo de propiedad\")\n",
    "g.set_ylabel(\"Cantidad de publicaciones\")"
   ]
  },
  {
   "cell_type": "code",
   "execution_count": null,
   "metadata": {},
   "outputs": [],
   "source": [
    "plt.figure(figsize=((2,2)))\n",
    "df_metros_arreglados[\"cantidad\"] = 1\n",
    "por_tamanio_y_tipo = df_metros_arreglados.groupby([\"clasif_tamanio\", \"tipodepropiedad\"]).agg({\"cantidad\":np.sum}).reset_index().set_index(\"tipodepropiedad\")\n",
    "g = por_tamanio_y_tipo.loc[por_tamanio_y_tipo[\"clasif_tamanio\"] == \"Muy grande\"].nlargest(4,columns=\"cantidad\").plot(kind = \"bar\", rot=20)\n",
    "plt.title(\"Top 4 tipos de propiedad en propiedades muy grandes\")\n",
    "g.set_xlabel(\"Tipo de propiedad\")\n",
    "g.set_ylabel(\"Cantidad de publicaciones\")"
   ]
  },
  {
   "cell_type": "code",
   "execution_count": null,
   "metadata": {},
   "outputs": [],
   "source": [
    "f, axes = plt.subplots(2, 2, figsize=(10, 10), sharex=True,)\n",
    "\n",
    "\n",
    "df_sin_nulos = df_metros_arreglados.copy().dropna(inplace=False)\n",
    "plt.setp(axes, xticks=[1,2,3,4,5,6,7,8,9,10], xticklabels=[1,2,3,4,5,6,7,8,9,10])\n",
    "df_sin_nulos[\"cantidad\"] = 1\n",
    "por_habitaciones = df_sin_nulos.groupby([\"clasif_tamanio\",\"habitaciones\"]).agg({\"cantidad\":sum}).reset_index().copy()\n",
    "\n",
    "a = sns.barplot( x=\"habitaciones\", y=\"cantidad\" , data=por_habitaciones.loc[por_habitaciones[\"clasif_tamanio\"] == \"Chico\"],color=\"skyblue\", ax=axes[0, 0])\n",
    "b = sns.barplot(x=\"habitaciones\", y=\"cantidad\" , data=por_habitaciones.loc[por_habitaciones[\"clasif_tamanio\"] == \"Mediano\",] , color=\"olive\", ax=axes[0, 1] )\n",
    "c = sns.barplot(x=\"habitaciones\", y=\"cantidad\" , data=por_habitaciones.loc[por_habitaciones[\"clasif_tamanio\"] == \"Grande\", ] , color=\"gold\", ax=axes[1, 0] )\n",
    "d = sns.barplot(x=\"habitaciones\", y=\"cantidad\" , data=por_habitaciones.loc[por_habitaciones[\"clasif_tamanio\"] == \"Muy grande\"] , color=\"teal\", ax=axes[1, 1])\n",
    "a.set_ylabel(\"Cantidad de publicaciones\")\n",
    "b.set_ylabel(\"Cantidad de publicaciones\")\n",
    "c.set_ylabel(\"Cantidad de publicaciones\")\n",
    "d.set_ylabel(\"Cantidad de publicaciones\")\n",
    "axes[0,0].set_title(\"Chicas\")\n",
    "axes[0,1].set_title(\"Medianas\")\n",
    "axes[1,0].set_title(\"Grandes\")\n",
    "axes[1,1].set_title(\"Muy grandes\")\n",
    "\n"
   ]
  },
  {
   "cell_type": "code",
   "execution_count": null,
   "metadata": {},
   "outputs": [],
   "source": [
    "\n",
    "f, axes = plt.subplots(2, 2, figsize=(9.5, 9.5), sharex=True,)\n",
    "plt.setp(axes, xticks=[1,2,3,4], xticklabels=[1,2,3,4])\n",
    "\n",
    "por_banos = df_sin_nulos.groupby([\"clasif_tamanio\",\"banos\"]).agg({\"cantidad\":sum}).reset_index().copy()\n",
    "por_banos[\"Baños\"] = por_banos[\"banos\"] \n",
    "a = sns.barplot( x=\"Baños\", y=\"cantidad\" , data=por_banos.loc[por_banos[\"clasif_tamanio\"] == \"Chico\"],color=\"skyblue\", ax=axes[0, 0])\n",
    "b = sns.barplot(x=\"Baños\", y=\"cantidad\" , data=por_banos.loc[por_banos[\"clasif_tamanio\"] == \"Mediano\",] , color=\"olive\", ax=axes[0, 1] )\n",
    "c = sns.barplot(x=\"Baños\", y=\"cantidad\" , data=por_banos.loc[por_banos[\"clasif_tamanio\"] == \"Grande\", ] , color=\"gold\", ax=axes[1, 0] )\n",
    "d = sns.barplot(x=\"Baños\", y=\"cantidad\" , data=por_banos.loc[por_banos[\"clasif_tamanio\"] == \"Muy grande\"] , color=\"teal\", ax=axes[1, 1])\n",
    "a.set_ylabel(\"Cantidad de publicaciones\")\n",
    "b.set_ylabel(\"Cantidad de publicaciones\")\n",
    "c.set_ylabel(\"Cantidad de publicaciones\")\n",
    "d.set_ylabel(\"Cantidad de publicaciones\")\n",
    "\n",
    "\n",
    "plt.suptitle(\"Cantidad de baños según el tamaño de la propiedad\")\n",
    "\n",
    "axes[0,0].set_title(\"Chicas\")\n",
    "axes[0,0].set_xticklabels([1,2,3,4])\n",
    "axes[0,1].set_title(\"Medianas\")\n",
    "axes[1,0].set_title(\"Grandes\")\n",
    "axes[1,1].set_title(\"Muy grandes\")\n"
   ]
  },
  {
   "cell_type": "code",
   "execution_count": null,
   "metadata": {},
   "outputs": [],
   "source": [
    "\n",
    "f, axes = plt.subplots(2, 2, figsize=(9.5, 9.5), sharex=True,)\n",
    "plt.setp(axes, xticks=[0,1,2,3,4,5,6,7,8,9], xticklabels=[0,1,2,3,4,5,6,7,8,9])\n",
    "\n",
    "por_garages = df_sin_nulos.groupby([\"clasif_tamanio\",\"garages\"]).agg({\"cantidad\":sum}).reset_index().copy()\n",
    "por_garages[\"Garages\"] = por_garages[\"garages\"] \n",
    "a = sns.barplot( x=\"Garages\", y=\"cantidad\" , data=por_garages.loc[por_garages[\"clasif_tamanio\"] == \"Chico\"],color=\"skyblue\", ax=axes[0, 0])\n",
    "b = sns.barplot(x=\"Garages\", y=\"cantidad\" , data=por_garages.loc[por_garages[\"clasif_tamanio\"] == \"Mediano\",] , color=\"olive\", ax=axes[0, 1] )\n",
    "c = sns.barplot(x=\"Garages\", y=\"cantidad\" , data=por_garages.loc[por_garages[\"clasif_tamanio\"] == \"Grande\", ] , color=\"gold\", ax=axes[1, 0] )\n",
    "d = sns.barplot(x=\"Garages\", y=\"cantidad\" , data=por_garages.loc[por_garages[\"clasif_tamanio\"] == \"Muy grande\"] , color=\"teal\", ax=axes[1, 1])\n",
    "a.set_ylabel(\"Cantidad de publicaciones\")\n",
    "b.set_ylabel(\"Cantidad de publicaciones\")\n",
    "c.set_ylabel(\"Cantidad de publicaciones\")\n",
    "d.set_ylabel(\"Cantidad de publicaciones\")\n",
    "\n",
    "\n",
    "plt.suptitle(\"Cantidad de baños según el tamaño de la propiedad\")\n",
    "\n",
    "axes[0,0].set_title(\"Chicas\")\n",
    "axes[0,0].set_xticklabels([0,1,2,3,4,5,6,7,8,9])\n",
    "axes[0,1].set_title(\"Medianas\")\n",
    "axes[1,0].set_title(\"Grandes\")\n",
    "axes[1,1].set_title(\"Muy grandes\")\n"
   ]
  },
  {
   "cell_type": "code",
   "execution_count": null,
   "metadata": {},
   "outputs": [],
   "source": [
    "df[\"garages\"].isna().value_counts().plot(\"pie\", title = \"Porcentaje de propiedad cono garage nulo\",\\\n",
    "    labels=[\"No es nulo\", \"Nulo\"], wedgeprops={\"width\":0.5, \"edgecolor\":'w'}, explode = [0.03,0], autopct='%1.1f%%',\n",
    "                                    colors = [\"green\", \"red\"])\n"
   ]
  },
  {
   "cell_type": "markdown",
   "metadata": {},
   "source": [
    "Podemos ver como tenemos una cantidad importante de nulos en la categoría de garage y supondremos que aquellas propiedaddes que lo tengan nulo significa que NO tienen garage. Entonces los rellenaremos con 0."
   ]
  },
  {
   "cell_type": "code",
   "execution_count": null,
   "metadata": {},
   "outputs": [],
   "source": [
    "f, axes = plt.subplots(2, 2, figsize=(9.5, 9.5), sharex=True,)\n",
    "plt.setp(axes, xticks=[0,1,2,3,4,5,6,7,8,9], xticklabels=[0,1,2,3,4,5,6,7,8,9])\n",
    "df_copia = df_metros_arreglados.copy()\n",
    "\n",
    "df[\"garages\"] = df_copia[\"garages\"].fillna(0)\n",
    "df_copia.dropna(inplace=True)\n",
    "df_copia[\"cantidad\"] = 1\n",
    "por_garages = df_copia.groupby([\"clasif_tamanio\",\"garages\"]).agg({\"cantidad\":np.sum}).reset_index()\n",
    "por_garages[\"Garages\"] = por_garages[\"garages\"] \n",
    "a = sns.barplot( x=\"Garages\", y=\"cantidad\" , data=por_garages.loc[por_garages[\"clasif_tamanio\"] == \"Chico\"],color=\"skyblue\", ax=axes[0, 0])\n",
    "b = sns.barplot(x=\"Garages\", y=\"cantidad\" , data=por_garages.loc[por_garages[\"clasif_tamanio\"] == \"Mediano\",] , color=\"olive\", ax=axes[0, 1] )\n",
    "c = sns.barplot(x=\"Garages\", y=\"cantidad\" , data=por_garages.loc[por_garages[\"clasif_tamanio\"] == \"Grande\", ] , color=\"gold\", ax=axes[1, 0] )\n",
    "d = sns.barplot(x=\"Garages\", y=\"cantidad\" , data=por_garages.loc[por_garages[\"clasif_tamanio\"] == \"Muy grande\"] , color=\"teal\", ax=axes[1, 1])\n",
    "a.set_ylabel(\"Cantidad de publicaciones\")\n",
    "b.set_ylabel(\"Cantidad de publicaciones\")\n",
    "c.set_ylabel(\"Cantidad de publicaciones\")\n",
    "d.set_ylabel(\"Cantidad de publicaciones\")\n",
    "plt.suptitle(\"Cantidad de garages según el tamaño de la propiedad\")\n",
    "axes[0,0].set_title(\"Chicas\")\n",
    "axes[0,0].set_xticklabels([0,1,2,3,4,5,6,7,8,9])\n",
    "axes[0,1].set_title(\"Medianas\")\n",
    "axes[1,0].set_title(\"Grandes\")\n",
    "axes[1,1].set_title(\"Muy grandes\")"
   ]
  },
  {
   "cell_type": "markdown",
   "metadata": {},
   "source": [
    "Evidentemente, por como lo estamos graficando, ingresar en los valores que tenían nulos un 0 no hizo una gran diferencia "
   ]
  },
  {
   "cell_type": "markdown",
   "metadata": {},
   "source": [
    "### Precio en funcion del tamaño"
   ]
  },
  {
   "cell_type": "code",
   "execution_count": null,
   "metadata": {},
   "outputs": [],
   "source": [
    "plt.figure(figsize=(10,3))\n",
    "df_metros_arreglados[\"precioxmetro\"] = df_metros_arreglados[\"precio\"] / df_metros_arreglados[\"metrostotales\"]\n",
    "g = df_metros_arreglados.groupby([\"clasif_tamanio\"]).agg({\"precioxmetro\":np.mean})[\"precioxmetro\"].plot(kind=\"barh\")\n",
    "plt.title(\"Promedio precio por metro según el tamaño de la propiedad\")\n",
    "g.set_xlabel(\"Precio por metro\")\n",
    "g.set_ylabel(\"Tamaño\")\n",
    "plt.show()\n",
    "plt.figure(figsize=(10,3))\n",
    "\n",
    "h = df_metros_arreglados.groupby([\"clasif_tamanio\"]).agg({\"precio\":np.mean})[\"precio\"].plot(kind=\"barh\")\n",
    "plt.title(\"Promedio precio según el tamaño de la propiedad\")\n",
    "h.set_xlabel(\"Precio por metro\")\n",
    "h.set_ylabel(\"Tamaño\")\n"
   ]
  },
  {
   "cell_type": "code",
   "execution_count": null,
   "metadata": {},
   "outputs": [],
   "source": [
    "metros_banios_precio = df_metros_arreglados[[\"metrostotales\", \"banos\",\"clasif_tamanio\" , \"habitaciones\",\"precio\"]].copy().dropna(inplace=False)\n",
    "metros_banios_precio.head()\n",
    "pivoteado = pd.pivot_table(metros_banios_precio, index=\"banos\", columns = \"clasif_tamanio\", values=\"precio\", fill_value=0)\n",
    "pivoteado.sort_index(ascending=False, inplace=True)\n",
    "pivoteado = pivoteado[[\"Chico\", \"Mediano\", \"Grande\", \"Muy grande\"]]\n",
    "\n",
    "plt.figure(figsize=(10,5))\n",
    "g = sns.heatmap(pivoteado, cmap=\"YlOrRd\")\n",
    "g.set_xlabel(\"Tamaño de la propiedad\")\n",
    "g.set_ylabel(\"Cantidad de baños\")\n",
    "plt.title(\"Heatmap de el precio en función de el tamaño de la propiedad y cantidad de baños\")"
   ]
  },
  {
   "cell_type": "code",
   "execution_count": null,
   "metadata": {},
   "outputs": [],
   "source": [
    "pivoteado2 = pd.pivot_table(metros_banios_precio, index=\"habitaciones\", columns = \"clasif_tamanio\", values=\"precio\", fill_value=0)\n",
    "pivoteado2.sort_index(ascending=False, inplace=True)\n",
    "print(pivoteado2)\n",
    "pivoteado2 = pivoteado2[[\"Chico\", \"Mediano\", \"Grande\", \"Muy grande\"]]\n",
    "\n",
    "plt.figure(figsize=(10,5))\n",
    "g = sns.heatmap(pivoteado2, cmap=\"YlOrRd\")\n",
    "g.set_xlabel(\"Tamaño de la propiedad\")\n",
    "g.set_ylabel(\"Cantidad de habitaciones\")\n",
    "plt.title(\"Heatmap de el precio en función de el tamaño de la propiedad y cantidad de habitaciones\")"
   ]
  },
  {
   "cell_type": "markdown",
   "metadata": {},
   "source": [
    "#### Trato de analizar las categorías booleanas\n",
    "\n",
    "Veremos cuanto afectan al precio segun el tamaño de la propiedad, que tengan estos agregados las propiedades"
   ]
  },
  {
   "cell_type": "code",
   "execution_count": null,
   "metadata": {},
   "outputs": [],
   "source": [
    "categorias_booleanas = df_metros_arreglados[[\"clasif_tamanio\", \"gimnasio\", \"usosmultiples\", \"piscina\",\\\n",
    "                                             \"escuelascercanas\",\"centroscomercialescercanos\", \"precio\", \"precioxmetro\"]]"
   ]
  },
  {
   "cell_type": "markdown",
   "metadata": {},
   "source": [
    "#### Gimnasio"
   ]
  },
  {
   "cell_type": "code",
   "execution_count": null,
   "metadata": {},
   "outputs": [],
   "source": [
    "precio_gimnasio = pd.pivot_table(categorias_booleanas, index = \"clasif_tamanio\", columns = \"gimnasio\", values=\"precio\")\n",
    "precio_gimnasio.columns = [\"Sin gimnasio\", \"Con gimnasio\"]\n",
    "plt.figure(figsize=(10,5))\n",
    "g = precio_gimnasio.reset_index().plot.bar(x=\"clasif_tamanio\", y=[\"Sin gimnasio\", \"Con gimnasio\"], grid = True)\n",
    "plt.title(\"Precio para propiedades con y sin gimnasio\")\n",
    "g.set_xlabel(\"Tamaño\")\n",
    "g.set_ylabel(\"Precio\")\n"
   ]
  },
  {
   "cell_type": "code",
   "execution_count": null,
   "metadata": {},
   "outputs": [],
   "source": [
    "#categorias_booleanas.groupby([\"clasif_tamanio\",\"gimnasio\"]).agg({\"precio\":\"mean\"}).plot(kind=\"bar\", color = \"#FFC222\")\n",
    "precio_gimnasio = pd.pivot_table(categorias_booleanas, index = \"clasif_tamanio\", columns = \"gimnasio\", values=\"precioxmetro\")\n",
    "precio_gimnasio.columns = [\"Sin gimnasio\", \"Con gimnasio\"]\n",
    "plt.figure(figsize=(10,5))\n",
    "g = precio_gimnasio.reset_index().plot.bar(x=\"clasif_tamanio\", y=[\"Sin gimnasio\", \"Con gimnasio\"], grid = True)\n",
    "plt.title(\"Precio por metro cuadrado para propiedades con y sin gimnasio\")\n",
    "g.set_xlabel(\"Tamaño\")\n",
    "g.set_ylabel(\"Precio por metro\")\n"
   ]
  },
  {
   "cell_type": "markdown",
   "metadata": {},
   "source": [
    "#### Piscina"
   ]
  },
  {
   "cell_type": "code",
   "execution_count": null,
   "metadata": {},
   "outputs": [],
   "source": [
    "precio_piscina = pd.pivot_table(categorias_booleanas, index = \"clasif_tamanio\", columns = \"piscina\", values=\"precio\")\n",
    "precio_piscina.columns = [\"Sin piscina\", \"Con piscina\"]\n",
    "precio_piscina.reset_index().plot.bar(x=\"clasif_tamanio\", y=precio_piscina.columns)"
   ]
  },
  {
   "cell_type": "code",
   "execution_count": null,
   "metadata": {},
   "outputs": [],
   "source": [
    "precio_piscina = pd.pivot_table(categorias_booleanas, index = \"clasif_tamanio\", columns = \"piscina\", values=\"precioxmetro\")\n",
    "precio_piscina.columns = [\"Sin piscina\", \"Con piscina\"]\n",
    "plt.figure(figsize=(10,5))\n",
    "g = precio_piscina.reset_index().plot.bar(x=\"clasif_tamanio\", y=[\"Sin piscina\", \"Con piscina\"], grid = True)\n",
    "plt.title(\"Precio por metro cuadrado para propiedades con y sin piscina\")\n",
    "g.set_xlabel(\"Tamaño\")\n",
    "g.set_ylabel(\"Precio por metro\")\n"
   ]
  },
  {
   "cell_type": "markdown",
   "metadata": {},
   "source": [
    "#### Usos múltiples"
   ]
  },
  {
   "cell_type": "code",
   "execution_count": null,
   "metadata": {},
   "outputs": [],
   "source": [
    "precio_SUM = pd.pivot_table(categorias_booleanas, index = \"clasif_tamanio\", columns = \"usosmultiples\", values=\"precio\")\n",
    "precio_SUM.columns = [\"Sin SUM\", \"Con SUM\"]\n",
    "plt.figure(figsize=(10,5))\n",
    "g = precio_SUM.reset_index().plot.bar(x=\"clasif_tamanio\", y=precio_SUM.columns, grid = True)\n",
    "plt.title(\"Precio para propiedades con y sin SUM\")\n",
    "g.set_xlabel(\"Tamaño\")\n",
    "g.set_ylabel(\"Precio\")\n"
   ]
  },
  {
   "cell_type": "code",
   "execution_count": null,
   "metadata": {},
   "outputs": [],
   "source": [
    "precio_SUM = pd.pivot_table(categorias_booleanas, index = \"clasif_tamanio\", columns = \"usosmultiples\", values=\"precioxmetro\")\n",
    "precio_SUM.columns = [\"Sin SUM\", \"Con SUM\"]\n",
    "plt.figure(figsize=(10,5))\n",
    "g = precio_SUM.reset_index().plot.bar(x=\"clasif_tamanio\", y=[\"Sin SUM\", \"Con SUM\"], grid = True)\n",
    "plt.title(\"Precio por metro cuadrado para propiedades con y sin SUM\")\n",
    "g.set_xlabel(\"Tamaño\")\n",
    "g.set_ylabel(\"Precio por metro\")\n"
   ]
  },
  {
   "cell_type": "markdown",
   "metadata": {},
   "source": [
    "#### Escuelas cercanas"
   ]
  },
  {
   "cell_type": "code",
   "execution_count": null,
   "metadata": {},
   "outputs": [],
   "source": [
    "precio_escuelas = pd.pivot_table(categorias_booleanas, index = \"clasif_tamanio\", columns = \"escuelascercanas\", values=\"precio\")\n",
    "precio_escuelas.columns = [\"Sin escuelas cercanas\", \"Con escuelas cercanas\"]\n",
    "plt.figure(figsize=(10,5))\n",
    "g = precio_escuelas.reset_index().plot.bar(x=\"clasif_tamanio\", y=[\"Sin escuelas cercanas\", \"Con escuelas cercanas\"], grid = True)\n",
    "plt.title(\"Precio para propiedades con y sin escuelas cercanas\")\n",
    "g.set_xlabel(\"Tamaño\")\n",
    "g.set_ylabel(\"Precio\")"
   ]
  },
  {
   "cell_type": "code",
   "execution_count": null,
   "metadata": {},
   "outputs": [],
   "source": [
    "precio_escuelas = pd.pivot_table(categorias_booleanas, index = \"clasif_tamanio\", columns = \"escuelascercanas\", values=\"precioxmetro\")\n",
    "precio_escuelas.columns = [\"Sin escuelas cercanas\", \"Con escuelas cercanas\"]\n",
    "plt.figure(figsize=(10,5))\n",
    "g = precio_escuelas.reset_index().plot.bar(x=\"clasif_tamanio\", y=[\"Sin escuelas cercanas\", \"Con escuelas cercanas\"], grid = True)\n",
    "plt.title(\"Precio por metro cuadrado para propiedades con y sin escuelas cercanas\")\n",
    "g.set_xlabel(\"Tamaño\")\n",
    "g.set_ylabel(\"Precio por metro\")\n"
   ]
  },
  {
   "cell_type": "markdown",
   "metadata": {},
   "source": [
    "#### Centros comerciales"
   ]
  },
  {
   "cell_type": "code",
   "execution_count": null,
   "metadata": {},
   "outputs": [],
   "source": [
    "precio_cc = pd.pivot_table(categorias_booleanas, index = \"clasif_tamanio\", columns = \"centroscomercialescercanos\", values=\"precio\")\n",
    "precio_cc.columns = [\"Sin centros comerciales cercanos\", \"Con centros comerciales cercanos\"]\n",
    "plt.figure(figsize=(10,5))\n",
    "g = precio_cc.reset_index().plot.bar(x=\"clasif_tamanio\", y=[\"Sin centros comerciales cercanos\", \"Con centros comerciales cercanos\"], grid = True)\n",
    "plt.title(\"Precio para propiedades con y sin centros comerciales cercanos\")\n",
    "g.set_xlabel(\"Tamaño\")\n",
    "g.set_ylabel(\"Precio\")"
   ]
  },
  {
   "cell_type": "code",
   "execution_count": null,
   "metadata": {},
   "outputs": [],
   "source": [
    "precio_cc = pd.pivot_table(categorias_booleanas, index = \"clasif_tamanio\", columns = \"centroscomercialescercanos\", values=\"precioxmetro\")\n",
    "precio_cc.columns = [\"Sin centros comerciales cercanos\", \"Con centros comerciales cercanos\"]\n",
    "plt.figure(figsize=(10,5))\n",
    "g = precio_cc.reset_index().plot.bar(x=\"clasif_tamanio\", y=[\"Sin centros comerciales cercanos\", \"Con centros comerciales cercanos\"], grid = True)\n",
    "plt.title(\"Precio por metro para propiedades con y sin centros comerciales cercanos\")\n",
    "g.set_xlabel(\"Tamaño\")\n",
    "g.set_ylabel(\"Precio por metro\")"
   ]
  },
  {
   "cell_type": "markdown",
   "metadata": {},
   "source": [
    "Capaz porque hay mas oferta, o que sea una zona por ende mas superpoblada y mas fea."
   ]
  },
  {
   "cell_type": "code",
   "execution_count": null,
   "metadata": {},
   "outputs": [],
   "source": []
  }
 ],
 "metadata": {
  "kernelspec": {
   "display_name": "Python 3",
   "language": "python",
   "name": "python3"
  },
  "language_info": {
   "codemirror_mode": {
    "name": "ipython",
    "version": 3
   },
   "file_extension": ".py",
   "mimetype": "text/x-python",
   "name": "python",
   "nbconvert_exporter": "python",
   "pygments_lexer": "ipython3",
   "version": "3.7.3"
  }
 },
 "nbformat": 4,
 "nbformat_minor": 4
}
