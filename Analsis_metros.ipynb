{
 "cells": [
  {
   "cell_type": "code",
   "execution_count": null,
   "metadata": {},
   "outputs": [],
   "source": [
    "import pandas as pd\n",
    "import numpy as np\n",
    "import matplotlib.pyplot as plt"
   ]
  },
  {
   "cell_type": "code",
   "execution_count": null,
   "metadata": {},
   "outputs": [],
   "source": [
    "diccionario_tipos = {\n",
    "    \"tipodepropiedad\":\"category\",\n",
    "    \"provincia\":\"category\",\n",
    "    \"provincia\":\"category\",\n",
    "    #\"habitaciones\":\"int\",\n",
    "    #\"garages\":\"int\",\n",
    "    #\"banos\":\"int\",\n",
    "    #'metroscubiertos':, 'metrostotales', 'idzona', 'lat', 'lng',\n",
    "    'gimnasio':\"bool\",\n",
    "    'usosmultiples':\"bool\",\n",
    "    'piscina':\"bool\",\n",
    "    'escuelascercanas':\"bool\",\n",
    "    'centroscomercialescercanos':\"bool\"\n",
    "}\n",
    "df = pd.read_csv(\"data/train.csv\", dtype = diccionario_tipos)"
   ]
  },
  {
   "cell_type": "code",
   "execution_count": null,
   "metadata": {},
   "outputs": [],
   "source": [
    "df[[\"metrostotales\", \"metroscubiertos\"]].isnull().agg(sum)"
   ]
  },
  {
   "cell_type": "code",
   "execution_count": null,
   "metadata": {},
   "outputs": [],
   "source": [
    " df[[\"metrostotales\", \"metroscubiertos\"]].isnull().agg(sum) / df.shape[0]"
   ]
  },
  {
   "cell_type": "markdown",
   "metadata": {},
   "source": [
    "Podemos ver como las columnas \"Metros totales\" y \"Metros cubiertos\" tienen una gran cantidad de nulos, principalmente \"Metros totales\" que tiene un 21% de nulos."
   ]
  },
  {
   "cell_type": "code",
   "execution_count": null,
   "metadata": {},
   "outputs": [],
   "source": [
    "df.loc[(df[\"metrostotales\"] == 0) | (df[\"metroscubiertos\"] == 0)].shape"
   ]
  },
  {
   "cell_type": "code",
   "execution_count": null,
   "metadata": {},
   "outputs": [],
   "source": [
    "df.loc[(df[\"metrostotales\"].isnull()) & (df[\"metroscubiertos\"].isnull())].shape"
   ]
  },
  {
   "cell_type": "markdown",
   "metadata": {},
   "source": [
    "Por otro lado, estas columnas tienen dos particularidades:\n",
    " - No hay **ninguna** entrada que tenga los **dos** campos como nulos al mismo tiempo.\n",
    " - En ningún caso tienen como valor **0**.\n",
    " \n",
    "Es decir, no hay ninguna propiedad que tenga las dos caracterísitcas incompletas sin embargo hay gran cantidad de nulos en ambas categorías por separado.\n",
    "\n",
    "Veamos cual es la relacion entre que datos tiene cada propiedad"
   ]
  },
  {
   "cell_type": "code",
   "execution_count": null,
   "metadata": {},
   "outputs": [],
   "source": [
    "df[\"tiene_los_dos\"] = df[\"metrostotales\"].notnull() & df[\"metroscubiertos\"].notnull()\n",
    "df[\"tiene_los_dos\"].value_counts()"
   ]
  },
  {
   "cell_type": "code",
   "execution_count": null,
   "metadata": {},
   "outputs": [],
   "source": [
    "propiedades_con_metros= df.loc[df[\"tiene_los_dos\"] == True].copy()\n",
    "propiedades_con_metros[\"metros_descubiertos\"] = propiedades_con_metros[\"metrostotales\"] - propiedades_con_metros[\"metroscubiertos\"]\n",
    "propiedades_con_metros[\"metros_descubiertos\"].value_counts().head()"
   ]
  },
  {
   "cell_type": "code",
   "execution_count": null,
   "metadata": {},
   "outputs": [],
   "source": [
    "fig = plt.figure(figsize = (10,5))\n",
    "g = propiedades_con_metros[\"metros_descubiertos\"].hist(bins=41)\n",
    "plt.title(\"Histograma de la diferencia de metros totales con metros cubiertos\")\n",
    "g.set_xlabel(\"Diferencia entre Metros totales y cubiertos\")\n",
    "g.set_ylabel(\"Cantidad de propiedades\")"
   ]
  },
  {
   "cell_type": "code",
   "execution_count": null,
   "metadata": {},
   "outputs": [],
   "source": [
    "print(\"Proporción de propiedades con MAS metros cubiertos que totales: \", \\\n",
    "      (df.loc[df[\"metrostotales\"] < df[\"metroscubiertos\"]].copy().shape[0]) / df.shape[0])\n"
   ]
  },
  {
   "cell_type": "markdown",
   "metadata": {},
   "source": [
    "Descubrimos que a un 29% de las propiedades tienen una cantidad de metros cubiertos mayor a la de metros totales. Pero haciendo un histograma de la diferencia entre estos dos valores podemos ver que es muy simétrico. \n",
    "Dado que sabemos que para ninguno de estos casos los valores son nulos. Deducimos que es muy probable que haya datos ingresados al revez. Es decir, que se ingresó en metros cubiertos el valor que debería estar en metros totales y viceversa."
   ]
  },
  {
   "cell_type": "code",
   "execution_count": null,
   "metadata": {},
   "outputs": [],
   "source": [
    "fig = plt.figure(figsize = (10,5))\n",
    "cantidad_de_tipos_propiedades = df[\"tipodepropiedad\"].value_counts()\n",
    "cantidad_de_tipos_propiedades_negativos = df.loc[df[\"metrostotales\"] < df[\"metroscubiertos\"], \"tipodepropiedad\"].copy().value_counts()\n",
    "proporcion = cantidad_de_tipos_propiedades_negativos / cantidad_de_tipos_propiedades\n",
    "g = proporcion.sort_values(ascending=False).plot(kind=\"bar\")\n",
    "plt.title(\"Proporcion de propiedades con mas metros cubiertos que totales\")\n",
    "g.set_xlabel(\"Tipos de propiedades\")\n",
    "g.set_ylabel(\"Proporcion\")"
   ]
  },
  {
   "cell_type": "markdown",
   "metadata": {},
   "source": [
    "Podemos ver como este fenomeno se produce mas en propiedades que es mas común que tengan un poco de terreno descubierto (casas por ejemplo), en propiedades que pueden llegar a tener metros compartidos (edificios con patio común) o propiedades que puedan tener mas de una planta (duplex). Todos estas características suman a la posibilidad de que los datos estén cargados de forma errónea."
   ]
  },
  {
   "cell_type": "markdown",
   "metadata": {},
   "source": [
    "#### Vamos a intercambiar los valores de metros totales y cubieros para aquellas propiedades que tienen mas metrs cubiertos que totales"
   ]
  },
  {
   "cell_type": "code",
   "execution_count": null,
   "metadata": {},
   "outputs": [],
   "source": [
    "def swap_selectivo(fil):\n",
    "    if fil[\"metrostotales\"] < fil[\"metroscubiertos\"]:\n",
    "        aux = fil[\"metrostotales\"]\n",
    "        fil[\"metrostotales\"] = fil[\"metroscubiertos\"]\n",
    "        fil[\"metroscubiertos\"] = fil[\"metrostotales\"]\n",
    "    return fil\n",
    "\"\"\"\n",
    "df_con_estilo = df.apply( swap_selectivo, axis=1).copy()\n",
    "df_con_estilo[\"metrostotales\"] - df_con_estilo[\"metroscubiertos\"]\"\"\"\n",
    "df[\"swapear\"] = df[\"metrostotales\"] < df[\"metroscubiertos\"]\n",
    "\n",
    "aux = df.loc[df[\"swapear\"], \"metrostotales\"].copy()\n",
    "if (not aux.empty):\n",
    "    df.loc[df[\"swapear\"],\"metrostotales\"] = df.loc[df[\"swapear\"], \"metroscubiertos\"]\n",
    "    df[\"metroscubiertos\"] = aux\n",
    "df.drop(columns=\"swapear\", inplace=True)\n",
    "(df[\"metrostotales\"] < df[\"metroscubiertos\"]).value_counts()\n",
    "df[[\"metrostotales\", \"metroscubiertos\"]]"
   ]
  },
  {
   "cell_type": "code",
   "execution_count": null,
   "metadata": {},
   "outputs": [],
   "source": [
    "df.groupby(\"tipodepropiedad\").agg({\"metrostotales\":\"mean\"}).plot(kind = \"bar\")"
   ]
  },
  {
   "cell_type": "code",
   "execution_count": null,
   "metadata": {},
   "outputs": [],
   "source": [
    "df[\"patio\"] = df[\"metrostotales\"] - df[\"metroscubiertos\"]\n",
    "df.groupby(\"tipodepropiedad\").agg({\"patio\":\"mean\"}).plot(kind = \"bar\")"
   ]
  },
  {
   "cell_type": "code",
   "execution_count": null,
   "metadata": {},
   "outputs": [],
   "source": [
    "prop_cubiertas = b.loc[b[\"metros_descubiertos\"] == 0]\n",
    "prop_cubiertas[\"tipodepropiedad\"].value_counts()"
   ]
  },
  {
   "cell_type": "markdown",
   "metadata": {},
   "source": [
    "#### Analizamos las propiedades que tienen algunos de los metros nulos"
   ]
  },
  {
   "cell_type": "code",
   "execution_count": null,
   "metadata": {},
   "outputs": [],
   "source": [
    "metrostotales_nulos = df.loc[df[\"metrostotales\"].isnull()]\n"
   ]
  },
  {
   "cell_type": "code",
   "execution_count": null,
   "metadata": {},
   "outputs": [],
   "source": []
  },
  {
   "cell_type": "code",
   "execution_count": null,
   "metadata": {},
   "outputs": [],
   "source": []
  }
 ],
 "metadata": {
  "kernelspec": {
   "display_name": "Python 3",
   "language": "python",
   "name": "python3"
  },
  "language_info": {
   "codemirror_mode": {
    "name": "ipython",
    "version": 3
   },
   "file_extension": ".py",
   "mimetype": "text/x-python",
   "name": "python",
   "nbconvert_exporter": "python",
   "pygments_lexer": "ipython3",
   "version": "3.7.3"
  }
 },
 "nbformat": 4,
 "nbformat_minor": 4
}
