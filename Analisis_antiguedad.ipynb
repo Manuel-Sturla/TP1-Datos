{
 "cells": [
  {
   "cell_type": "code",
   "execution_count": null,
   "metadata": {},
   "outputs": [],
   "source": [
    "import pandas as pd\n",
    "import numpy as np\n",
    "import matplotlib as plt"
   ]
  },
  {
   "cell_type": "code",
   "execution_count": null,
   "metadata": {},
   "outputs": [],
   "source": [
    "diccionario_tipos = {\n",
    "    \"tipodepropiedad\":\"category\",\n",
    "    \"provincia\":\"category\",\n",
    "    \"provincia\":\"category\",\n",
    "    #\"habitaciones\":\"int\",\n",
    "    #\"garages\":\"int\",\n",
    "    #\"banos\":\"int\",\n",
    "    #'metroscubiertos':, 'metrostotales', 'idzona', 'lat', 'lng',\n",
    "    'gimnasio':\"bool\",\n",
    "    'usosmultiples':\"bool\",\n",
    "    'piscina':\"bool\",\n",
    "    'escuelascercanas':\"bool\",\n",
    "    'centroscomercialescercanos':\"bool\"\n",
    "}\n",
    "df = pd.read_csv(\"data/train.csv\", dtype = diccionario_tipos)"
   ]
  },
  {
   "cell_type": "code",
   "execution_count": null,
   "metadata": {},
   "outputs": [],
   "source": [
    "df[[\"antiguedad\"]].describe()"
   ]
  },
  {
   "cell_type": "code",
   "execution_count": null,
   "metadata": {},
   "outputs": [],
   "source": [
    "g = df[\"antiguedad\"].plot.hist(bins=16)\n",
    "g.set_title(\"Histograma de la antiguedad de las propiedades\")\n",
    "g.set_xlabel(\"Antiguedad\")\n",
    "g.set_ylabel(\"Frecuencia\")"
   ]
  },
  {
   "cell_type": "markdown",
   "metadata": {},
   "source": [
    "Podemos ver como la distribucion de la antiguedad, nos da con mucha mayor frecuencia ventas de propiedades nuevas o casi nuevas, mientras que hay muchas menos propiedades mas antiguas"
   ]
  },
  {
   "cell_type": "code",
   "execution_count": null,
   "metadata": {},
   "outputs": [],
   "source": [
    "cant_propiedades_nuevas = df.loc[df[\"antiguedad\"]==0, \"antiguedad\"].count()\n",
    "cant_propiedades_totales = df[\"antiguedad\"].count()\n",
    "print(f\"La cantidad de propiedades nuevas es: {cant_propiedades_nuevas}, lo cual representa un {cant_propiedades_nuevas*100 / cant_propiedades_totales}%\")"
   ]
  },
  {
   "cell_type": "markdown",
   "metadata": {},
   "source": [
    "Como vemos las propiedades nuevas representan un **25%** de las propiedades en venta.\n",
    "Por lo tanto vamos a ver cual es la distribución de la  antiguedad quitando las propiedades nuevas"
   ]
  },
  {
   "cell_type": "code",
   "execution_count": null,
   "metadata": {},
   "outputs": [],
   "source": [
    "ventas_no_nuevas = df.loc[df[\"antiguedad\"]>0]\n",
    "ventas_no_nuevas[\"antiguedad\"].plot.hist(bins = 32)"
   ]
  },
  {
   "cell_type": "markdown",
   "metadata": {},
   "source": [
    "Podemos ver que aún sacando las ventas de inmuebles nuevos predominan las ventas de propiedades con una antiguedad **menor a diez**"
   ]
  },
  {
   "cell_type": "markdown",
   "metadata": {},
   "source": [
    "## Analsisi de inmuebles nuevos\n",
    "Como vimos, tenemos un cuarto de los inmuebles en venta que son a nuevo. Por lo tanto es interesante indagar sobre que características tienen estas propiedades: ¿Son mayoritariamente departamentos (porque se hacen edificios a nuevo)? ¿Tienen un precio mayor que la media? ¿Predominan en las provincias y ciudades mas importantes?"
   ]
  },
  {
   "cell_type": "code",
   "execution_count": null,
   "metadata": {},
   "outputs": [],
   "source": [
    "nuevos = df.loc[df[\"antiguedad\"] == 0]"
   ]
  },
  {
   "cell_type": "markdown",
   "metadata": {},
   "source": [
    "#### Que tipos de propiedad predominan en las ventas a nuevo?"
   ]
  },
  {
   "cell_type": "code",
   "execution_count": null,
   "metadata": {},
   "outputs": [],
   "source": [
    "nuevos[\"tipodepropiedad\"].value_counts().plot.bar()"
   ]
  },
  {
   "cell_type": "markdown",
   "metadata": {},
   "source": [
    "Vemos que predominan las casas y apartamentos y pareciera que hay algunas categorías que no tienen ninguna publicación a nuevo"
   ]
  },
  {
   "cell_type": "code",
   "execution_count": null,
   "metadata": {},
   "outputs": [],
   "source": [
    "nuevos[\"tipodepropiedad\"].value_counts().loc[lambda x: x == 0]"
   ]
  },
  {
   "cell_type": "code",
   "execution_count": null,
   "metadata": {},
   "outputs": [],
   "source": []
  }
 ],
 "metadata": {
  "kernelspec": {
   "display_name": "Python 3",
   "language": "python",
   "name": "python3"
  },
  "language_info": {
   "codemirror_mode": {
    "name": "ipython",
    "version": 3
   },
   "file_extension": ".py",
   "mimetype": "text/x-python",
   "name": "python",
   "nbconvert_exporter": "python",
   "pygments_lexer": "ipython3",
   "version": "3.7.3"
  }
 },
 "nbformat": 4,
 "nbformat_minor": 2
}
