{
 "cells": [
  {
   "cell_type": "code",
   "execution_count": null,
   "metadata": {},
   "outputs": [],
   "source": [
    "import pandas as pd\n",
    "import numpy as np\n",
    "from datetime import datetime\n",
    "import matplotlib.pyplot as plt\n",
    "import matplotlib.ticker as ticker"
   ]
  },
  {
   "cell_type": "code",
   "execution_count": null,
   "metadata": {},
   "outputs": [],
   "source": [
    "def graficar(grafico, titulo, x_label, y_label):\n",
    "    grafico.set_title(titulo)\n",
    "    grafico.set_xlabel(x_label)\n",
    "    grafico.set_ylabel(y_label)\n",
    "    return grafico\n"
   ]
  },
  {
   "cell_type": "code",
   "execution_count": null,
   "metadata": {},
   "outputs": [],
   "source": [
    "diccionario_tipos = {\n",
    "    \"tipodepropiedad\":\"category\",\n",
    "    \"provincia\":\"category\",\n",
    "    \"provincia\":\"category\",\n",
    "    #\"habitaciones\":\"int\",\n",
    "    #\"garages\":\"int\",\n",
    "    #\"banos\":\"int\",\n",
    "    #'metroscubiertos':, 'metrostotales', 'idzona', 'lat', 'lng',\n",
    "    'gimnasio':\"bool\",\n",
    "    'usosmultiples':\"bool\",\n",
    "    'piscina':\"bool\",\n",
    "    'escuelascercanas':\"bool\",\n",
    "    'centroscomercialescercanos':\"bool\"\n",
    "}\n",
    "df = pd.read_csv(\"data/train.csv\", dtype = diccionario_tipos)\n",
    "df[\"fecha\"] = pd.to_datetime(df[\"fecha\"])"
   ]
  },
  {
   "cell_type": "code",
   "execution_count": null,
   "metadata": {},
   "outputs": [],
   "source": [
    "df[[\"antiguedad\"]].describe()"
   ]
  },
  {
   "cell_type": "code",
   "execution_count": null,
   "metadata": {},
   "outputs": [],
   "source": [
    "g = df[\"antiguedad\"].plot.hist(bins=16)\n",
    "g.set_title(\"Histograma de la antiguedad de las propiedades\")\n",
    "g.set_xlabel(\"Antiguedad\")\n",
    "g.set_ylabel(\"Frecuencia\")"
   ]
  },
  {
   "cell_type": "markdown",
   "metadata": {},
   "source": [
    "Podemos ver como la distribucion de la antiguedad, nos da con mucha mayor frecuencia ventas de propiedades nuevas o casi nuevas, mientras que hay muchas menos propiedades mas antiguas"
   ]
  },
  {
   "cell_type": "code",
   "execution_count": null,
   "metadata": {},
   "outputs": [],
   "source": [
    "cant_propiedades_nuevas = df.loc[df[\"antiguedad\"]==0, \"antiguedad\"].count()\n",
    "cant_propiedades_totales = df[\"antiguedad\"].count()\n",
    "print(f\"La cantidad de propiedades nuevas es: {cant_propiedades_nuevas}, lo cual representa un {cant_propiedades_nuevas*100 / cant_propiedades_totales}%\")"
   ]
  },
  {
   "cell_type": "markdown",
   "metadata": {},
   "source": [
    "Como vemos las propiedades nuevas representan un **25%** de las propiedades en venta.\n",
    "Por lo tanto vamos a ver cual es la distribución de la  antiguedad quitando las propiedades nuevas"
   ]
  },
  {
   "cell_type": "code",
   "execution_count": null,
   "metadata": {},
   "outputs": [],
   "source": [
    "ventas_no_nuevas = df.loc[df[\"antiguedad\"]>0]\n",
    "ventas_no_nuevas[\"antiguedad\"].plot.hist(bins = 32)"
   ]
  },
  {
   "cell_type": "markdown",
   "metadata": {},
   "source": [
    "Podemos ver que aún sacando las ventas de inmuebles nuevos predominan las ventas de propiedades con una antiguedad **menor a diez**"
   ]
  },
  {
   "cell_type": "markdown",
   "metadata": {},
   "source": [
    "## Analsisi de inmuebles nuevos\n",
    "Como vimos, tenemos un cuarto de los inmuebles en venta que son a nuevo. Por lo tanto es interesante indagar sobre que características tienen estas propiedades: ¿Son mayoritariamente departamentos (porque se hacen edificios a nuevo)? ¿Tienen un precio mayor que la media? ¿Predominan en las provincias y ciudades mas importantes?"
   ]
  },
  {
   "cell_type": "code",
   "execution_count": null,
   "metadata": {},
   "outputs": [],
   "source": [
    "nuevos = df.loc[df[\"antiguedad\"] == 0].copy()"
   ]
  },
  {
   "cell_type": "markdown",
   "metadata": {},
   "source": [
    "#### Que tipos de propiedad predominan en las ventas a nuevo?"
   ]
  },
  {
   "cell_type": "code",
   "execution_count": null,
   "metadata": {},
   "outputs": [],
   "source": [
    "nuevos[\"tipodepropiedad\"].value_counts().plot.bar()"
   ]
  },
  {
   "cell_type": "markdown",
   "metadata": {},
   "source": [
    "Vemos que predominan las casas y apartamentos y pareciera que hay algunas categorías que no tienen ninguna publicación a nuevo"
   ]
  },
  {
   "cell_type": "code",
   "execution_count": null,
   "metadata": {},
   "outputs": [],
   "source": [
    "nuevos[\"tipodepropiedad\"].value_counts().loc[lambda x: x == 0]"
   ]
  },
  {
   "cell_type": "markdown",
   "metadata": {},
   "source": [
    "#### Locación de las propiedades nuevas"
   ]
  },
  {
   "cell_type": "code",
   "execution_count": null,
   "metadata": {},
   "outputs": [],
   "source": [
    "plt.figure(figsize=(15,7))\n",
    "cant_propiedades_nuevas_x_prov = nuevos[\"provincia\"].value_counts()\n",
    "g = cant_propiedades_nuevas_x_prov.plot(\"bar\")\n",
    "plt.title(\"Cantidad de propiedades nuevas por provincia\")\n",
    "g.set_xlabel(\"Provincia\")\n",
    "g.set_ylabel(\"Cantidad de propiedades nuevas en venta\")"
   ]
  },
  {
   "cell_type": "markdown",
   "metadata": {},
   "source": [
    "En este gráfico nos indicaría que tenemos muchas mas propiedades nuevas en venta en las provincias con mayor nivel de publicaciones. \n",
    "\n",
    "Pero si vamos  un poco mas lejos y calculamos la proporción de propiedades nuevas por provincia..."
   ]
  },
  {
   "cell_type": "code",
   "execution_count": null,
   "metadata": {},
   "outputs": [],
   "source": [
    "fig = plt.figure(figsize=(15,7))\n",
    "cant_propiedades_nuevas_x_prov = nuevos[\"provincia\"].value_counts()\n",
    "cant_propiedades_x_prov = df[\"provincia\"].value_counts()\n",
    "proporcion_de_prop_nuevas = cant_propiedades_nuevas_x_prov / cant_propiedades_x_prov\n",
    "g=proporcion_de_prop_nuevas.sort_values(ascending=False).plot(\"bar\")\n",
    "plt.title(\"Proporcion de propiedades nuevas por provincia\")\n",
    "g.set_xlabel(\"Provincia\")\n",
    "g.set_ylabel(\"Proporción de propiedades nuevas en venta\")"
   ]
  },
  {
   "cell_type": "markdown",
   "metadata": {},
   "source": [
    "Podemos ver en este caso como Estado de Mexico y Distrito Federal ya no se encuentran entre las provincias con mayor proporcion de nuevas."
   ]
  },
  {
   "cell_type": "code",
   "execution_count": null,
   "metadata": {},
   "outputs": [],
   "source": [
    "from matplotlib.lines import Line2D\n",
    "df[\"cantidad\"] = 1\n",
    "cantidad_publicaciones_x_prov = df.groupby(\"provincia\").agg({\"cantidad\":sum}).sort_values(\"cantidad\", ascending = False).copy()\n",
    "\"\"\"top5_prov = cantidad_publicaciones_x_prov.head(5)\n",
    "min5_prov = cantidad_publicaciones_x_prov.tail(15)\n",
    "print(top5_prov,\"\\n\" ,min5_prov)\"\"\"\n",
    "quantil_mayor = 0.9\n",
    "quantil_menor = 0.1\n",
    "top = cantidad_publicaciones_x_prov.loc[cantidad_publicaciones_x_prov[\"cantidad\"] >\\\n",
    "                                        cantidad_publicaciones_x_prov[\"cantidad\"].quantile(quantil_mayor)].copy()\n",
    "menores = cantidad_publicaciones_x_prov.loc[cantidad_publicaciones_x_prov[\"cantidad\"] <\\\n",
    "                                        cantidad_publicaciones_x_prov[\"cantidad\"].quantile(quantil_menor)].copy()\n",
    "top[\"top\"] = True\n",
    "menores[\"menores\"] = True\n",
    "top = top.drop(columns=[\"cantidad\"])\n",
    "menores = menores.drop(columns=[\"cantidad\"])\n",
    "df_proporcion_prop_nuevas = proporcion_de_prop_nuevas.to_frame().reset_index()\n",
    "df_proporcion_prop_nuevas.columns = [\"provincia\", \"proporcion_nuevos\"]\n",
    "con_label_top = df_proporcion_prop_nuevas.merge(top, how=\"left\", on=\"provincia\").fillna({\"top\":False}).copy()\n",
    "con_ambos_labels = con_label_top.merge(menores, how=\"left\", on = \"provincia\").fillna({\"menores\":False}).copy()\n",
    "#sin_labels = df_proporcion_prop_nuevas.filter(lambda x: x[\"provincia\"].in )\n",
    "\n",
    "plt.figure(figsize=(17,7))\n",
    "def aplicar_color(row):\n",
    "    if row[\"top\"] == True: return \"#00414F\"\n",
    "    elif row[\"menores\"] == True: return \"#93F1FF\" #Menores con el color mas clarito\n",
    "    else: return \"#88A2AF\" #las que restan son las que queddan en el medio\n",
    "    \n",
    "con_ambos_labels[\"color\"] = con_ambos_labels.apply(aplicar_color, axis = 1)\n",
    "con_ambos_labels = con_ambos_labels.sort_values(by=\"proporcion_nuevos\", ascending=False).set_index(\"provincia\")\n",
    "con_ambos_labels[\"proporcion_nuevos\"]\n",
    "g = con_ambos_labels[\"proporcion_nuevos\"].plot(kind=\"bar\", color=list(con_ambos_labels[\"color\"]))\n",
    "\n",
    "elementos_leyenda = [Line2D([0], [0], color=\"#00414F\", lw=4, label=f'Provincias con ventas mayores al {quantil_mayor} quantil'),\\\n",
    "                     Line2D([0], [0], color=\"#88A2AF\", lw=4, label=f'Provincias entre el {quantil_mayor} y {quantil_menor} quantil'),\\\n",
    "                     Line2D([0], [0], color=\"#93F1FF\", lw=4, label=f'Provincias hasta el {quantil_menor} quantil')]\n",
    "plt.legend(handles = elementos_leyenda)\n",
    "plt.title(\"Proporcion de ventas de propiedades nuevas por provincia\")\n",
    "g.set_xlabel(\"Provincias\")\n",
    "g.set_ylabel(\"Proporcion de ventas de propiedades nuevas\")"
   ]
  },
  {
   "cell_type": "markdown",
   "metadata": {},
   "source": [
    "En este último gráfico vemos que las provincias con valores mas extremos de proporcion de propiedades nuevas en venta, no son aquellas que por tener la menor cantidad de publicaciones son las mas variables. \n"
   ]
  },
  {
   "cell_type": "markdown",
   "metadata": {},
   "source": [
    "Dado que hay algunas provincias que tienen una proporcion de publicaciones de propiedades a nuevo muy grandes, vamos a ver como evolucionó a lo largo del tiempo este tipo de publicaciones en la página\n",
    "#### Publicaciones nuevas a lo largo del tiempo"
   ]
  },
  {
   "cell_type": "code",
   "execution_count": null,
   "metadata": {},
   "outputs": [],
   "source": [
    "#import matplotlib.dates as mdates\n",
    "plt.figure(figsize=(17,7))\n",
    "nuevos[\"fecha\"] = pd.to_datetime(nuevos[\"fecha\"])\n",
    "nuevos[\"cantidad\"] = 1\n",
    "nuevos[\"mes\"] = nuevos[\"fecha\"].dt.month\n",
    "nuevos[\"anio\"] = nuevos[\"fecha\"].dt.year\n",
    "g = nuevos.set_index(\"fecha\").groupby(pd.Grouper(freq=\"m\")).agg({\"cantidad\":sum})[\"cantidad\"].plot(\"line\")\n",
    "plt.title(\"Evolucion de las publicaciones de propiedades nuevas a lo largo del tiempo\")\n",
    "g.set_xlabel(\"Fecha\")\n",
    "g.set_ylabel(\"Cantidad de publicaciones\")\n",
    "\n",
    "#g.xaxis.set_major_locator(ticker.MultipleLocator(12)) \n",
    "#g.xaxis.set_major_locator(mdates.MonthLocator(bymonth=[1,4,8]))\n",
    "#g.xaxis.set_major_formatter(mdates.DateFormatter('%Y-%m-%d'))"
   ]
  },
  {
   "cell_type": "markdown",
   "metadata": {},
   "source": [
    "Podemos ver claramente 3 picos. Uno para fines del 2012, otro a fines del 2013 y uno a fines del 2016. Este último es producto de la gran alza de publicaciones en diciembre del 2016.\n",
    "\n",
    "Dado que queremos ver como varían las publicaciones nuevas. Vamos a graficar la proporcion de publicaciones nuevas de la página dividiendo por la cantidad de publicaciones que haya en cada mes."
   ]
  },
  {
   "cell_type": "code",
   "execution_count": null,
   "metadata": {},
   "outputs": [],
   "source": [
    "plt.figure(figsize=(17,7))\n",
    "nuevos_agrupado_por_mes = nuevos.set_index(\"fecha\").groupby(pd.Grouper(freq=\"m\")).agg({\"cantidad\":sum})\n",
    "df[\"cantidad\"] = 1\n",
    "agrupado_por_mes = df.set_index(\"fecha\").groupby(pd.Grouper(freq=\"m\")).agg({\"cantidad\":sum}).copy()\n",
    "nuevos_agrupado_por_mes[\"proporcion\"] = nuevos_agrupado_por_mes[\"cantidad\"] / agrupado_por_mes[\"cantidad\"]\n",
    "g = nuevos_agrupado_por_mes[\"proporcion\"].plot(\"line\")\n",
    "plt.title(\"Evolucion de las publicaciones de propiedades nuevas a lo largo del tiempo\")\n",
    "g.set_xlabel(\"Fecha\")\n",
    "g.set_ylabel(\"Proporción de publicaciones\")"
   ]
  },
  {
   "cell_type": "markdown",
   "metadata": {},
   "source": [
    "Vemos en este caso como el pico del 2016 desaparece, dado que era producto de el aumento del volumen de las publicaciones, mientras que los picos de fines de 2013 y fines de 2012 quedan mucho mas marcados\n",
    "\n",
    "Dado que Baja California Sur era la provincia con mas proporcion de nuevos, vamos a analizarla por separado"
   ]
  },
  {
   "cell_type": "code",
   "execution_count": null,
   "metadata": {},
   "outputs": [],
   "source": [
    "\n",
    "plt.figure(figsize=(15,7))\n",
    "propiedades_nuevas_BCS = nuevos.loc[nuevos[\"provincia\"] == \"Baja California Sur\"].copy()\n",
    "propiedades_nuevas_BCS[\"fecha\"] = pd.to_datetime(propiedades_nuevas_BCS[\"fecha\"])\n",
    "#propiedades_nuevas_BCS[\"fecha_mes\"] = datetime.strftime(propiedades_nuevas_BCS[\"fecha\"], format=\"%Y-%m\")\n",
    "propiedades_nuevas_BCS[\"cantidad\"] = 1\n",
    "propiedades_nuevas_BCS.set_index(\"fecha\").groupby(pd.Grouper(freq=\"M\")).agg({\"cantidad\":sum})\n",
    "g = propiedades_nuevas_BCS.set_index(\"fecha\").groupby(pd.Grouper(freq=\"M\")).agg({\"cantidad\":sum})[\"cantidad\"].plot(\"line\")\n",
    "plt.title(\"Cantidad de publicaciones nuevas en funcion del tiempo en Baja California Sur\")\n",
    "g.set_xlabel(\"Fecha\")\n",
    "g.set_ylabel(\"Cantidad de publicaciones nuevas\")\n"
   ]
  },
  {
   "cell_type": "markdown",
   "metadata": {},
   "source": [
    "Vamos a hacer un poco de zoom en el año 2013 para ver para que fecha sucede este pico"
   ]
  },
  {
   "cell_type": "code",
   "execution_count": null,
   "metadata": {},
   "outputs": [],
   "source": [
    "plt.figure(figsize=(15,7))\n",
    "\n",
    "propiedades_nuevas_BCS_2013 = propiedades_nuevas_BCS.loc[propiedades_nuevas_BCS[\"fecha\"].dt.year == 2013]\n",
    "g = propiedades_nuevas_BCS_2013.set_index(\"fecha\").groupby(pd.Grouper(freq=\"M\")).agg({\"cantidad\":sum})[\"cantidad\"].plot(\"line\")\n",
    "plt.title(\"Cantidad de publicaciones nuevas en funcion del tiempo en Baja California Sur en 2013\")\n",
    "g.set_xlabel(\"Fecha\")\n",
    "g.set_ylabel(\"Cantidad de publicaciones nuevas\")"
   ]
  },
  {
   "cell_type": "code",
   "execution_count": null,
   "metadata": {},
   "outputs": [],
   "source": [
    "import matplotlib.dates as mdates\n",
    "plt.figure(figsize=(15,7))\n",
    "propiedades_nuevas_BCS_2013_nov = propiedades_nuevas_BCS_2013.loc[propiedades_nuevas_BCS_2013[\"fecha\"].dt.month == 9]\n",
    "g = propiedades_nuevas_BCS_2013_nov.groupby(\"fecha\").agg({\"cantidad\":sum})[\"cantidad\"].plot(\"line\")\n",
    "plt.title(\"Cantidad de publicaciones nuevas en funcion del tiempo en Baja California Sur en NOVIEMBRE del 2013\")\n",
    "g.set_xlabel(\"Dias\")\n",
    "g.set_ylabel(\"Cantidad de publicaciones nuevas\")\n",
    "g.xaxis.set_major_locator(mdates.DayLocator(interval=1))\n",
    "g.xaxis.set_major_formatter(mdates.DateFormatter('%d'))"
   ]
  },
  {
   "cell_type": "markdown",
   "metadata": {},
   "source": [
    "Como podemos observar gran parte de las publicaciones nuevas de Baja California Sur se concentran unicamente el 23 de noviembre del 2013\n"
   ]
  },
  {
   "cell_type": "code",
   "execution_count": null,
   "metadata": {},
   "outputs": [],
   "source": [
    "fig = plt.figure(figsize=(17,7))\n",
    "sin_nulos_antiguedad = df.dropna(axis=0, subset=[\"antiguedad\", \"metrostotales\"])\n",
    "mediana_antiguedad_x_ciudad = sin_nulos_antiguedad.groupby([\"ciudad\"]).agg({\"antiguedad\":\"median\", \"metrostotales\":\"median\"})\n",
    "mediana_antiguedad_x_ciudad#.reset_index(inplace=True)\n",
    "plt.scatter(mediana_antiguedad_x_ciudad[\"metrostotales\"], mediana_antiguedad_x_ciudad[\"antiguedad\"], alpha=0.6)\n",
    "plt.title(\"Scatter plot de las ciudades en funcion de la mediana de la antiguedad y los metros totales\")"
   ]
  },
  {
   "cell_type": "markdown",
   "metadata": {},
   "source": [
    "#### Precio de las propiedades nuevas"
   ]
  },
  {
   "cell_type": "code",
   "execution_count": null,
   "metadata": {},
   "outputs": [],
   "source": [
    "fig= plt.figure(figsize=(15, 7))\n",
    "ax = plt.axes()\n",
    "buckets = 60\n",
    "g = nuevos[\"precio\"].plot(kind = 'hist', bins = buckets, alpha = 0.7)\n",
    "h = ventas_no_nuevas[\"precio\"].sample(n=nuevos[\"precio\"].count(), random_state = 500).plot.hist(bins = buckets, alpha = 0.4,)\n",
    "\n",
    "fig.legend([\"Precio nuevos\", \"Precio NO nuevos\"])\n",
    "#fig.add_subplot(h)\n",
    "plt.title(\"Distribucion de los precios de la propiedades Nuevas vs No nuevas\")\n",
    "plt.ticklabel_format(style=\"plain\") #SACA la notación científica de los precios\n",
    "ax.xaxis.set_major_locator(ticker.MultipleLocator(1000000)) \n",
    "#Decimos cada cuantos pesos mexicanos queremos que aparezca una marca en el grafico"
   ]
  },
  {
   "cell_type": "markdown",
   "metadata": {},
   "source": [
    "Como podemos ver la distribucion de los precios de las propiedades nuevas vs las no nuevas (con antiguedad > 0) tienen ciertas características observables:\n",
    " - En el rango [0, 1000000] tenemos una mayor frecuencia de propiedades NO nuevas en venta\n",
    " - En el rango [1000000, 3000000] tenemos mas propiedades nuevas en venta\n",
    " - En los precios siguientes tienen distribuciones muy similares\n",
    " \n",
    "Por lo tanto podría concluir que las propiedades nuevas se venden a un precio ligeramente mayor  \n"
   ]
  },
  {
   "cell_type": "code",
   "execution_count": null,
   "metadata": {},
   "outputs": [],
   "source": []
  },
  {
   "cell_type": "code",
   "execution_count": null,
   "metadata": {},
   "outputs": [],
   "source": []
  },
  {
   "cell_type": "code",
   "execution_count": null,
   "metadata": {},
   "outputs": [],
   "source": []
  },
  {
   "cell_type": "code",
   "execution_count": null,
   "metadata": {},
   "outputs": [],
   "source": []
  },
  {
   "cell_type": "code",
   "execution_count": null,
   "metadata": {},
   "outputs": [],
   "source": []
  },
  {
   "cell_type": "code",
   "execution_count": null,
   "metadata": {},
   "outputs": [],
   "source": []
  },
  {
   "cell_type": "code",
   "execution_count": null,
   "metadata": {},
   "outputs": [],
   "source": []
  },
  {
   "cell_type": "code",
   "execution_count": null,
   "metadata": {},
   "outputs": [],
   "source": [
    "\n"
   ]
  }
 ],
 "metadata": {
  "kernelspec": {
   "display_name": "Python 3",
   "language": "python",
   "name": "python3"
  },
  "language_info": {
   "codemirror_mode": {
    "name": "ipython",
    "version": 3
   },
   "file_extension": ".py",
   "mimetype": "text/x-python",
   "name": "python",
   "nbconvert_exporter": "python",
   "pygments_lexer": "ipython3",
   "version": "3.7.3"
  }
 },
 "nbformat": 4,
 "nbformat_minor": 4
}
